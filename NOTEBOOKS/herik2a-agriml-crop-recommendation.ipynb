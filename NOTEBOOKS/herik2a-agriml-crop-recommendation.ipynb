{
 "cells": [
  {
   "cell_type": "markdown",
   "metadata": {
    "papermill": {
     "duration": 0.048997,
     "end_time": "2024-09-09T04:30:16.526389",
     "exception": false,
     "start_time": "2024-09-09T04:30:16.477392",
     "status": "completed"
    },
    "tags": []
   },
   "source": [
    "# CROP RECOMMENDATION SYSTEM "
   ]
  },
  {
   "cell_type": "code",
   "execution_count": 59,
   "metadata": {
    "execution": {
     "iopub.execute_input": "2024-09-09T04:30:16.633424Z",
     "iopub.status.busy": "2024-09-09T04:30:16.632627Z",
     "iopub.status.idle": "2024-09-09T04:30:17.965931Z",
     "shell.execute_reply": "2024-09-09T04:30:17.964586Z",
     "shell.execute_reply.started": "2024-09-09T03:52:05.459977Z"
    },
    "papermill": {
     "duration": 1.389511,
     "end_time": "2024-09-09T04:30:17.966088",
     "exception": false,
     "start_time": "2024-09-09T04:30:16.576577",
     "status": "completed"
    },
    "tags": []
   },
   "outputs": [],
   "source": [
    "# Importing libraries\n",
    "\n",
    "from __future__ import print_function\n",
    "import pandas as pd\n",
    "import numpy as np\n",
    "import matplotlib.pyplot as plt\n",
    "import seaborn as sns\n",
    "from sklearn.metrics import classification_report\n",
    "from sklearn import metrics\n",
    "from sklearn import tree\n",
    "import warnings\n",
    "warnings.filterwarnings('ignore')"
   ]
  },
  {
   "cell_type": "code",
   "execution_count": 60,
   "metadata": {
    "execution": {
     "iopub.execute_input": "2024-09-09T04:30:18.076328Z",
     "iopub.status.busy": "2024-09-09T04:30:18.075581Z",
     "iopub.status.idle": "2024-09-09T04:30:18.097989Z",
     "shell.execute_reply": "2024-09-09T04:30:18.097369Z",
     "shell.execute_reply.started": "2024-09-09T03:52:05.512895Z"
    },
    "papermill": {
     "duration": 0.084313,
     "end_time": "2024-09-09T04:30:18.098135",
     "exception": false,
     "start_time": "2024-09-09T04:30:18.013822",
     "status": "completed"
    },
    "tags": []
   },
   "outputs": [],
   "source": [
    "#PATH = '../input/crop-recommendation-dataset/Crop_recommendation.csv'\n",
    "PATH = '../DATA/FinalcropPrediction.csv'\n",
    "df = pd.read_csv(PATH)"
   ]
  },
  {
   "cell_type": "code",
   "execution_count": 27,
   "metadata": {
    "execution": {
     "iopub.execute_input": "2024-09-09T04:30:18.209986Z",
     "iopub.status.busy": "2024-09-09T04:30:18.202844Z",
     "iopub.status.idle": "2024-09-09T04:30:18.224953Z",
     "shell.execute_reply": "2024-09-09T04:30:18.224197Z",
     "shell.execute_reply.started": "2024-09-09T03:52:05.626751Z"
    },
    "papermill": {
     "duration": 0.078833,
     "end_time": "2024-09-09T04:30:18.225085",
     "exception": false,
     "start_time": "2024-09-09T04:30:18.146252",
     "status": "completed"
    },
    "tags": []
   },
   "outputs": [
    {
     "data": {
      "text/html": [
       "<div>\n",
       "<style scoped>\n",
       "    .dataframe tbody tr th:only-of-type {\n",
       "        vertical-align: middle;\n",
       "    }\n",
       "\n",
       "    .dataframe tbody tr th {\n",
       "        vertical-align: top;\n",
       "    }\n",
       "\n",
       "    .dataframe thead th {\n",
       "        text-align: right;\n",
       "    }\n",
       "</style>\n",
       "<table border=\"1\" class=\"dataframe\">\n",
       "  <thead>\n",
       "    <tr style=\"text-align: right;\">\n",
       "      <th></th>\n",
       "      <th>N</th>\n",
       "      <th>P</th>\n",
       "      <th>K</th>\n",
       "      <th>temperature</th>\n",
       "      <th>humidity</th>\n",
       "      <th>ph</th>\n",
       "      <th>rainfall</th>\n",
       "      <th>soil</th>\n",
       "      <th>label</th>\n",
       "    </tr>\n",
       "  </thead>\n",
       "  <tbody>\n",
       "    <tr>\n",
       "      <th>0</th>\n",
       "      <td>90</td>\n",
       "      <td>42</td>\n",
       "      <td>43</td>\n",
       "      <td>20.879744</td>\n",
       "      <td>82.002744</td>\n",
       "      <td>6.502985</td>\n",
       "      <td>202.935536</td>\n",
       "      <td>loamy</td>\n",
       "      <td>rice</td>\n",
       "    </tr>\n",
       "    <tr>\n",
       "      <th>1</th>\n",
       "      <td>90</td>\n",
       "      <td>42</td>\n",
       "      <td>43</td>\n",
       "      <td>20.879744</td>\n",
       "      <td>82.002744</td>\n",
       "      <td>6.502985</td>\n",
       "      <td>202.935536</td>\n",
       "      <td>clayey</td>\n",
       "      <td>rice</td>\n",
       "    </tr>\n",
       "    <tr>\n",
       "      <th>2</th>\n",
       "      <td>85</td>\n",
       "      <td>58</td>\n",
       "      <td>41</td>\n",
       "      <td>21.770462</td>\n",
       "      <td>80.319644</td>\n",
       "      <td>7.038096</td>\n",
       "      <td>226.655537</td>\n",
       "      <td>loamy</td>\n",
       "      <td>rice</td>\n",
       "    </tr>\n",
       "    <tr>\n",
       "      <th>3</th>\n",
       "      <td>85</td>\n",
       "      <td>58</td>\n",
       "      <td>41</td>\n",
       "      <td>21.770462</td>\n",
       "      <td>80.319644</td>\n",
       "      <td>7.038096</td>\n",
       "      <td>226.655537</td>\n",
       "      <td>clayey</td>\n",
       "      <td>rice</td>\n",
       "    </tr>\n",
       "    <tr>\n",
       "      <th>4</th>\n",
       "      <td>60</td>\n",
       "      <td>55</td>\n",
       "      <td>44</td>\n",
       "      <td>23.004459</td>\n",
       "      <td>82.320763</td>\n",
       "      <td>7.840207</td>\n",
       "      <td>263.964248</td>\n",
       "      <td>loamy</td>\n",
       "      <td>rice</td>\n",
       "    </tr>\n",
       "  </tbody>\n",
       "</table>\n",
       "</div>"
      ],
      "text/plain": [
       "    N   P   K  temperature   humidity        ph    rainfall    soil label\n",
       "0  90  42  43    20.879744  82.002744  6.502985  202.935536   loamy  rice\n",
       "1  90  42  43    20.879744  82.002744  6.502985  202.935536  clayey  rice\n",
       "2  85  58  41    21.770462  80.319644  7.038096  226.655537   loamy  rice\n",
       "3  85  58  41    21.770462  80.319644  7.038096  226.655537  clayey  rice\n",
       "4  60  55  44    23.004459  82.320763  7.840207  263.964248   loamy  rice"
      ]
     },
     "execution_count": 27,
     "metadata": {},
     "output_type": "execute_result"
    }
   ],
   "source": [
    "df.head()"
   ]
  },
  {
   "cell_type": "code",
   "execution_count": 28,
   "metadata": {
    "execution": {
     "iopub.execute_input": "2024-09-09T04:30:18.340156Z",
     "iopub.status.busy": "2024-09-09T04:30:18.338883Z",
     "iopub.status.idle": "2024-09-09T04:30:18.343737Z",
     "shell.execute_reply": "2024-09-09T04:30:18.343107Z",
     "shell.execute_reply.started": "2024-09-09T03:52:05.733044Z"
    },
    "papermill": {
     "duration": 0.069294,
     "end_time": "2024-09-09T04:30:18.343860",
     "exception": false,
     "start_time": "2024-09-09T04:30:18.274566",
     "status": "completed"
    },
    "tags": []
   },
   "outputs": [
    {
     "data": {
      "text/html": [
       "<div>\n",
       "<style scoped>\n",
       "    .dataframe tbody tr th:only-of-type {\n",
       "        vertical-align: middle;\n",
       "    }\n",
       "\n",
       "    .dataframe tbody tr th {\n",
       "        vertical-align: top;\n",
       "    }\n",
       "\n",
       "    .dataframe thead th {\n",
       "        text-align: right;\n",
       "    }\n",
       "</style>\n",
       "<table border=\"1\" class=\"dataframe\">\n",
       "  <thead>\n",
       "    <tr style=\"text-align: right;\">\n",
       "      <th></th>\n",
       "      <th>N</th>\n",
       "      <th>P</th>\n",
       "      <th>K</th>\n",
       "      <th>temperature</th>\n",
       "      <th>humidity</th>\n",
       "      <th>ph</th>\n",
       "      <th>rainfall</th>\n",
       "      <th>soil</th>\n",
       "      <th>label</th>\n",
       "    </tr>\n",
       "  </thead>\n",
       "  <tbody>\n",
       "    <tr>\n",
       "      <th>4195</th>\n",
       "      <td>118</td>\n",
       "      <td>33</td>\n",
       "      <td>30</td>\n",
       "      <td>24.131797</td>\n",
       "      <td>67.225123</td>\n",
       "      <td>6.362608</td>\n",
       "      <td>173.322839</td>\n",
       "      <td>clayey</td>\n",
       "      <td>coffee</td>\n",
       "    </tr>\n",
       "    <tr>\n",
       "      <th>4196</th>\n",
       "      <td>117</td>\n",
       "      <td>32</td>\n",
       "      <td>34</td>\n",
       "      <td>26.272418</td>\n",
       "      <td>52.127394</td>\n",
       "      <td>6.758793</td>\n",
       "      <td>127.175293</td>\n",
       "      <td>sandy</td>\n",
       "      <td>coffee</td>\n",
       "    </tr>\n",
       "    <tr>\n",
       "      <th>4197</th>\n",
       "      <td>117</td>\n",
       "      <td>32</td>\n",
       "      <td>34</td>\n",
       "      <td>26.272418</td>\n",
       "      <td>52.127394</td>\n",
       "      <td>6.758793</td>\n",
       "      <td>127.175293</td>\n",
       "      <td>clayey</td>\n",
       "      <td>coffee</td>\n",
       "    </tr>\n",
       "    <tr>\n",
       "      <th>4198</th>\n",
       "      <td>104</td>\n",
       "      <td>18</td>\n",
       "      <td>30</td>\n",
       "      <td>23.603016</td>\n",
       "      <td>60.396475</td>\n",
       "      <td>6.779833</td>\n",
       "      <td>140.937041</td>\n",
       "      <td>sandy</td>\n",
       "      <td>coffee</td>\n",
       "    </tr>\n",
       "    <tr>\n",
       "      <th>4199</th>\n",
       "      <td>104</td>\n",
       "      <td>18</td>\n",
       "      <td>30</td>\n",
       "      <td>23.603016</td>\n",
       "      <td>60.396475</td>\n",
       "      <td>6.779833</td>\n",
       "      <td>140.937041</td>\n",
       "      <td>clayey</td>\n",
       "      <td>coffee</td>\n",
       "    </tr>\n",
       "  </tbody>\n",
       "</table>\n",
       "</div>"
      ],
      "text/plain": [
       "        N   P   K  temperature   humidity        ph    rainfall    soil  \\\n",
       "4195  118  33  30    24.131797  67.225123  6.362608  173.322839  clayey   \n",
       "4196  117  32  34    26.272418  52.127394  6.758793  127.175293   sandy   \n",
       "4197  117  32  34    26.272418  52.127394  6.758793  127.175293  clayey   \n",
       "4198  104  18  30    23.603016  60.396475  6.779833  140.937041   sandy   \n",
       "4199  104  18  30    23.603016  60.396475  6.779833  140.937041  clayey   \n",
       "\n",
       "       label  \n",
       "4195  coffee  \n",
       "4196  coffee  \n",
       "4197  coffee  \n",
       "4198  coffee  \n",
       "4199  coffee  "
      ]
     },
     "execution_count": 28,
     "metadata": {},
     "output_type": "execute_result"
    }
   ],
   "source": [
    "df.tail()"
   ]
  },
  {
   "cell_type": "code",
   "execution_count": 6,
   "metadata": {
    "execution": {
     "iopub.execute_input": "2024-09-09T04:30:18.450879Z",
     "iopub.status.busy": "2024-09-09T04:30:18.450111Z",
     "iopub.status.idle": "2024-09-09T04:30:18.454048Z",
     "shell.execute_reply": "2024-09-09T04:30:18.453431Z",
     "shell.execute_reply.started": "2024-09-09T03:52:05.779356Z"
    },
    "papermill": {
     "duration": 0.060918,
     "end_time": "2024-09-09T04:30:18.454221",
     "exception": false,
     "start_time": "2024-09-09T04:30:18.393303",
     "status": "completed"
    },
    "tags": []
   },
   "outputs": [
    {
     "data": {
      "text/plain": [
       "37800"
      ]
     },
     "execution_count": 6,
     "metadata": {},
     "output_type": "execute_result"
    }
   ],
   "source": [
    "df.size"
   ]
  },
  {
   "cell_type": "code",
   "execution_count": 7,
   "metadata": {
    "execution": {
     "iopub.execute_input": "2024-09-09T04:30:18.560448Z",
     "iopub.status.busy": "2024-09-09T04:30:18.559479Z",
     "iopub.status.idle": "2024-09-09T04:30:18.564594Z",
     "shell.execute_reply": "2024-09-09T04:30:18.563849Z",
     "shell.execute_reply.started": "2024-09-09T03:52:05.813650Z"
    },
    "papermill": {
     "duration": 0.061297,
     "end_time": "2024-09-09T04:30:18.564738",
     "exception": false,
     "start_time": "2024-09-09T04:30:18.503441",
     "status": "completed"
    },
    "tags": []
   },
   "outputs": [
    {
     "data": {
      "text/plain": [
       "(4200, 9)"
      ]
     },
     "execution_count": 7,
     "metadata": {},
     "output_type": "execute_result"
    }
   ],
   "source": [
    "df.shape"
   ]
  },
  {
   "cell_type": "code",
   "execution_count": 8,
   "metadata": {
    "execution": {
     "iopub.execute_input": "2024-09-09T04:30:18.672697Z",
     "iopub.status.busy": "2024-09-09T04:30:18.671945Z",
     "iopub.status.idle": "2024-09-09T04:30:18.676113Z",
     "shell.execute_reply": "2024-09-09T04:30:18.675424Z",
     "shell.execute_reply.started": "2024-09-09T03:52:05.852744Z"
    },
    "papermill": {
     "duration": 0.059744,
     "end_time": "2024-09-09T04:30:18.676253",
     "exception": false,
     "start_time": "2024-09-09T04:30:18.616509",
     "status": "completed"
    },
    "tags": []
   },
   "outputs": [
    {
     "data": {
      "text/plain": [
       "Index(['N', 'P', 'K', 'temperature', 'humidity', 'ph', 'rainfall', 'soil',\n",
       "       'label'],\n",
       "      dtype='object')"
      ]
     },
     "execution_count": 8,
     "metadata": {},
     "output_type": "execute_result"
    }
   ],
   "source": [
    "df.columns"
   ]
  },
  {
   "cell_type": "code",
   "execution_count": 8,
   "metadata": {
    "execution": {
     "iopub.execute_input": "2024-09-09T04:30:18.787001Z",
     "iopub.status.busy": "2024-09-09T04:30:18.785769Z",
     "iopub.status.idle": "2024-09-09T04:30:18.789294Z",
     "shell.execute_reply": "2024-09-09T04:30:18.788668Z",
     "shell.execute_reply.started": "2024-09-09T03:52:05.885816Z"
    },
    "papermill": {
     "duration": 0.060111,
     "end_time": "2024-09-09T04:30:18.789430",
     "exception": false,
     "start_time": "2024-09-09T04:30:18.729319",
     "status": "completed"
    },
    "tags": []
   },
   "outputs": [],
   "source": [
    "#df['soil'].unique()"
   ]
  },
  {
   "cell_type": "code",
   "execution_count": 29,
   "metadata": {
    "execution": {
     "iopub.execute_input": "2024-09-09T04:30:18.898809Z",
     "iopub.status.busy": "2024-09-09T04:30:18.897663Z",
     "iopub.status.idle": "2024-09-09T04:30:18.903767Z",
     "shell.execute_reply": "2024-09-09T04:30:18.903136Z",
     "shell.execute_reply.started": "2024-09-09T03:52:05.915481Z"
    },
    "papermill": {
     "duration": 0.063552,
     "end_time": "2024-09-09T04:30:18.903888",
     "exception": false,
     "start_time": "2024-09-09T04:30:18.840336",
     "status": "completed"
    },
    "tags": []
   },
   "outputs": [
    {
     "data": {
      "text/plain": [
       "array(['rice', 'maize', 'chickpea', 'kidneybeans', 'pigeonpeas',\n",
       "       'mothbeans', 'mungbean', 'blackgram', 'lentil', 'pomegranate',\n",
       "       'banana', 'mango', 'grapes', 'watermelon', 'muskmelon', 'apple',\n",
       "       'orange', 'papaya', 'coconut', 'cotton', 'jute', 'coffee'],\n",
       "      dtype=object)"
      ]
     },
     "execution_count": 29,
     "metadata": {},
     "output_type": "execute_result"
    }
   ],
   "source": [
    "df['label'].unique()"
   ]
  },
  {
   "cell_type": "code",
   "execution_count": 30,
   "metadata": {
    "execution": {
     "iopub.execute_input": "2024-09-09T04:30:19.012462Z",
     "iopub.status.busy": "2024-09-09T04:30:19.011389Z",
     "iopub.status.idle": "2024-09-09T04:30:19.015477Z",
     "shell.execute_reply": "2024-09-09T04:30:19.014746Z",
     "shell.execute_reply.started": "2024-09-09T03:52:05.947225Z"
    },
    "papermill": {
     "duration": 0.061007,
     "end_time": "2024-09-09T04:30:19.015604",
     "exception": false,
     "start_time": "2024-09-09T04:30:18.954597",
     "status": "completed"
    },
    "tags": []
   },
   "outputs": [
    {
     "data": {
      "text/plain": [
       "N                int64\n",
       "P                int64\n",
       "K                int64\n",
       "temperature    float64\n",
       "humidity       float64\n",
       "ph             float64\n",
       "rainfall       float64\n",
       "soil            object\n",
       "label           object\n",
       "dtype: object"
      ]
     },
     "execution_count": 30,
     "metadata": {},
     "output_type": "execute_result"
    }
   ],
   "source": [
    "df.dtypes"
   ]
  },
  {
   "cell_type": "code",
   "execution_count": 31,
   "metadata": {
    "execution": {
     "iopub.execute_input": "2024-09-09T04:30:19.127835Z",
     "iopub.status.busy": "2024-09-09T04:30:19.126994Z",
     "iopub.status.idle": "2024-09-09T04:30:19.131134Z",
     "shell.execute_reply": "2024-09-09T04:30:19.130384Z",
     "shell.execute_reply.started": "2024-09-09T03:52:05.979200Z"
    },
    "papermill": {
     "duration": 0.064303,
     "end_time": "2024-09-09T04:30:19.131266",
     "exception": false,
     "start_time": "2024-09-09T04:30:19.066963",
     "status": "completed"
    },
    "tags": []
   },
   "outputs": [
    {
     "data": {
      "text/plain": [
       "label\n",
       "chickpea       400\n",
       "kidneybeans    300\n",
       "pigeonpeas     300\n",
       "jute           300\n",
       "coconut        300\n",
       "rice           200\n",
       "maize          200\n",
       "cotton         200\n",
       "papaya         200\n",
       "watermelon     200\n",
       "grapes         200\n",
       "mango          200\n",
       "blackgram      200\n",
       "coffee         200\n",
       "banana         100\n",
       "pomegranate    100\n",
       "muskmelon      100\n",
       "apple          100\n",
       "orange         100\n",
       "lentil         100\n",
       "mungbean       100\n",
       "mothbeans      100\n",
       "Name: count, dtype: int64"
      ]
     },
     "execution_count": 31,
     "metadata": {},
     "output_type": "execute_result"
    }
   ],
   "source": [
    "df['label'].value_counts()"
   ]
  },
  {
   "cell_type": "markdown",
   "metadata": {
    "papermill": {
     "duration": 0.051179,
     "end_time": "2024-09-09T04:30:19.233279",
     "exception": false,
     "start_time": "2024-09-09T04:30:19.182100",
     "status": "completed"
    },
    "tags": []
   },
   "source": [
    "# **These graphs shows that thers is no outliers present in this dataset**"
   ]
  },
  {
   "cell_type": "code",
   "execution_count": 49,
   "metadata": {
    "execution": {
     "iopub.execute_input": "2024-09-09T04:30:19.348557Z",
     "iopub.status.busy": "2024-09-09T04:30:19.347783Z",
     "iopub.status.idle": "2024-09-09T04:30:19.351086Z",
     "shell.execute_reply": "2024-09-09T04:30:19.350432Z",
     "shell.execute_reply.started": "2024-09-09T03:52:06.004653Z"
    },
    "papermill": {
     "duration": 0.066858,
     "end_time": "2024-09-09T04:30:19.351264",
     "exception": false,
     "start_time": "2024-09-09T04:30:19.284406",
     "status": "completed"
    },
    "tags": []
   },
   "outputs": [],
   "source": [
    "def detect_outlier(x):\n",
    "    q1 = x.quantile(0.25)\n",
    "    q3 = x.quantile(0.75)\n",
    "    IQR = q3-q1\n",
    "    lower_limit = q1 - (1.5*IQR)\n",
    "    upper_limit = q3 + (1.5*IQR)\n",
    "    print(f\"Lower limit: {lower_limit} Upper limit: {upper_limit}\")\n",
    "    print(f\"Minimum value: {x.min()}   Maximum Value: {x.max()}\")\n",
    "    for i in [x.min(),x.max()]:\n",
    "        if i == x.min():\n",
    "            if lower_limit > x.min():\n",
    "                print(\"Lower limit failed - Need to remove minimum value\")\n",
    "            elif lower_limit < x.min():\n",
    "                print(\"Lower limit passed - No need to remove outlier\")\n",
    "        elif i == x.max():\n",
    "            if upper_limit > x.max():\n",
    "                print(\"Upper limit passed - No need to remove outlier\")\n",
    "            elif upper_limit < x.max():\n",
    "                print(\"Upper limit failed - Need to remove maximum value\")"
   ]
  },
  {
   "cell_type": "code",
   "execution_count": null,
   "metadata": {
    "papermill": {
     "duration": 0.050447,
     "end_time": "2024-09-09T04:30:19.453411",
     "exception": false,
     "start_time": "2024-09-09T04:30:19.402964",
     "status": "completed"
    },
    "tags": []
   },
   "outputs": [],
   "source": []
  },
  {
   "cell_type": "code",
   "execution_count": 50,
   "metadata": {
    "execution": {
     "iopub.execute_input": "2024-09-09T04:30:19.565058Z",
     "iopub.status.busy": "2024-09-09T04:30:19.564324Z",
     "iopub.status.idle": "2024-09-09T04:30:19.649439Z",
     "shell.execute_reply": "2024-09-09T04:30:19.650294Z",
     "shell.execute_reply.started": "2024-09-09T03:52:06.057031Z"
    },
    "papermill": {
     "duration": 0.145981,
     "end_time": "2024-09-09T04:30:19.650548",
     "exception": false,
     "start_time": "2024-09-09T04:30:19.504567",
     "status": "completed"
    },
    "tags": []
   },
   "outputs": [
    {
     "name": "stdout",
     "output_type": "stream",
     "text": [
      "Detect Outlier for crop: rice (in Nutrient N)\n",
      "Lower limit: 36.0 Upper limit: 124.0\n",
      "Minimum value: 60   Maximum Value: 99\n",
      "Lower limit passed - No need to remove outlier\n",
      "Upper limit passed - No need to remove outlier\n",
      "---------------------------------------------\n",
      "Detect Outlier for crop: maize (in Nutrient N)\n",
      "Lower limit: 38.875 Upper limit: 115.875\n",
      "Minimum value: 60   Maximum Value: 100\n",
      "Lower limit passed - No need to remove outlier\n",
      "Upper limit passed - No need to remove outlier\n",
      "---------------------------------------------\n",
      "Detect Outlier for crop: chickpea (in Nutrient N)\n",
      "Lower limit: -3.0 Upper limit: 85.0\n",
      "Minimum value: 20   Maximum Value: 60\n",
      "Lower limit passed - No need to remove outlier\n",
      "Upper limit passed - No need to remove outlier\n",
      "---------------------------------------------\n",
      "Detect Outlier for crop: kidneybeans (in Nutrient N)\n",
      "Lower limit: -12.625 Upper limit: 52.375\n",
      "Minimum value: 0   Maximum Value: 40\n",
      "Lower limit passed - No need to remove outlier\n",
      "Upper limit passed - No need to remove outlier\n",
      "---------------------------------------------\n",
      "Detect Outlier for crop: pigeonpeas (in Nutrient N)\n",
      "Lower limit: -20.375 Upper limit: 60.625\n",
      "Minimum value: 0   Maximum Value: 40\n",
      "Lower limit passed - No need to remove outlier\n",
      "Upper limit passed - No need to remove outlier\n",
      "---------------------------------------------\n",
      "Detect Outlier for crop: mothbeans (in Nutrient N)\n",
      "Lower limit: -17.875 Upper limit: 59.125\n",
      "Minimum value: 0   Maximum Value: 40\n",
      "Lower limit passed - No need to remove outlier\n",
      "Upper limit passed - No need to remove outlier\n",
      "---------------------------------------------\n",
      "Detect Outlier for crop: mungbean (in Nutrient N)\n",
      "Lower limit: -21.5 Upper limit: 62.5\n",
      "Minimum value: 0   Maximum Value: 40\n",
      "Lower limit passed - No need to remove outlier\n",
      "Upper limit passed - No need to remove outlier\n",
      "---------------------------------------------\n",
      "Detect Outlier for crop: blackgram (in Nutrient N)\n",
      "Lower limit: -6.125 Upper limit: 86.875\n",
      "Minimum value: 20   Maximum Value: 60\n",
      "Lower limit passed - No need to remove outlier\n",
      "Upper limit passed - No need to remove outlier\n",
      "---------------------------------------------\n",
      "Detect Outlier for crop: lentil (in Nutrient N)\n",
      "Lower limit: -21.375 Upper limit: 59.625\n",
      "Minimum value: 0   Maximum Value: 40\n",
      "Lower limit passed - No need to remove outlier\n",
      "Upper limit passed - No need to remove outlier\n",
      "---------------------------------------------\n",
      "Detect Outlier for crop: pomegranate (in Nutrient N)\n",
      "Lower limit: -23.875 Upper limit: 61.125\n",
      "Minimum value: 0   Maximum Value: 40\n",
      "Lower limit passed - No need to remove outlier\n",
      "Upper limit passed - No need to remove outlier\n",
      "---------------------------------------------\n",
      "Detect Outlier for crop: banana (in Nutrient N)\n",
      "Lower limit: 67.625 Upper limit: 132.625\n",
      "Minimum value: 80   Maximum Value: 120\n",
      "Lower limit passed - No need to remove outlier\n",
      "Upper limit passed - No need to remove outlier\n",
      "---------------------------------------------\n",
      "Detect Outlier for crop: mango (in Nutrient N)\n",
      "Lower limit: -22.875 Upper limit: 62.125\n",
      "Minimum value: 0   Maximum Value: 40\n",
      "Lower limit passed - No need to remove outlier\n",
      "Upper limit passed - No need to remove outlier\n",
      "---------------------------------------------\n",
      "Detect Outlier for crop: grapes (in Nutrient N)\n",
      "Lower limit: -23.125 Upper limit: 69.875\n",
      "Minimum value: 0   Maximum Value: 40\n",
      "Lower limit passed - No need to remove outlier\n",
      "Upper limit passed - No need to remove outlier\n",
      "---------------------------------------------\n",
      "Detect Outlier for crop: watermelon (in Nutrient N)\n",
      "Lower limit: 57.5 Upper limit: 141.5\n",
      "Minimum value: 80   Maximum Value: 120\n",
      "Lower limit passed - No need to remove outlier\n",
      "Upper limit passed - No need to remove outlier\n",
      "---------------------------------------------\n",
      "Detect Outlier for crop: muskmelon (in Nutrient N)\n",
      "Lower limit: 56.0 Upper limit: 144.0\n",
      "Minimum value: 80   Maximum Value: 120\n",
      "Lower limit passed - No need to remove outlier\n",
      "Upper limit passed - No need to remove outlier\n",
      "---------------------------------------------\n",
      "Detect Outlier for crop: apple (in Nutrient N)\n",
      "Lower limit: -20.0 Upper limit: 60.0\n",
      "Minimum value: 0   Maximum Value: 40\n",
      "Lower limit passed - No need to remove outlier\n",
      "Upper limit passed - No need to remove outlier\n",
      "---------------------------------------------\n",
      "Detect Outlier for crop: orange (in Nutrient N)\n",
      "Lower limit: -24.0 Upper limit: 64.0\n",
      "Minimum value: 0   Maximum Value: 40\n",
      "Lower limit passed - No need to remove outlier\n",
      "Upper limit passed - No need to remove outlier\n",
      "---------------------------------------------\n",
      "Detect Outlier for crop: papaya (in Nutrient N)\n",
      "Lower limit: 8.625 Upper limit: 89.625\n",
      "Minimum value: 31   Maximum Value: 70\n",
      "Lower limit passed - No need to remove outlier\n",
      "Upper limit passed - No need to remove outlier\n",
      "---------------------------------------------\n",
      "Detect Outlier for crop: coconut (in Nutrient N)\n",
      "Lower limit: -12.125 Upper limit: 56.875\n",
      "Minimum value: 0   Maximum Value: 40\n",
      "Lower limit passed - No need to remove outlier\n",
      "Upper limit passed - No need to remove outlier\n",
      "---------------------------------------------\n",
      "Detect Outlier for crop: cotton (in Nutrient N)\n",
      "Lower limit: 78.125 Upper limit: 157.125\n",
      "Minimum value: 100   Maximum Value: 140\n",
      "Lower limit passed - No need to remove outlier\n",
      "Upper limit passed - No need to remove outlier\n",
      "---------------------------------------------\n",
      "Detect Outlier for crop: jute (in Nutrient N)\n",
      "Lower limit: 42.625 Upper limit: 115.625\n",
      "Minimum value: 60   Maximum Value: 100\n",
      "Lower limit passed - No need to remove outlier\n",
      "Upper limit passed - No need to remove outlier\n",
      "---------------------------------------------\n",
      "Detect Outlier for crop: coffee (in Nutrient N)\n",
      "Lower limit: 54.5 Upper limit: 146.5\n",
      "Minimum value: 80   Maximum Value: 120\n",
      "Lower limit passed - No need to remove outlier\n",
      "Upper limit passed - No need to remove outlier\n",
      "---------------------------------------------\n"
     ]
    }
   ],
   "source": [
    "for i in df['label'].unique():\n",
    "    print('Detect Outlier for crop:',i,'(in Nutrient N)')\n",
    "    detect_outlier(df['N'][df['label']==i])\n",
    "    print('---------------------------------------------')"
   ]
  },
  {
   "cell_type": "code",
   "execution_count": 51,
   "metadata": {
    "execution": {
     "iopub.execute_input": "2024-09-09T04:30:19.815146Z",
     "iopub.status.busy": "2024-09-09T04:30:19.808057Z",
     "iopub.status.idle": "2024-09-09T04:30:19.894089Z",
     "shell.execute_reply": "2024-09-09T04:30:19.894852Z",
     "shell.execute_reply.started": "2024-09-09T03:52:06.151244Z"
    },
    "papermill": {
     "duration": 0.176306,
     "end_time": "2024-09-09T04:30:19.895068",
     "exception": false,
     "start_time": "2024-09-09T04:30:19.718762",
     "status": "completed"
    },
    "tags": []
   },
   "outputs": [
    {
     "name": "stdout",
     "output_type": "stream",
     "text": [
      "Detect Outlier for crop: rice (in Nutrient P)\n",
      "Lower limit: 21.125 Upper limit: 74.125\n",
      "Minimum value: 35   Maximum Value: 60\n",
      "Lower limit passed - No need to remove outlier\n",
      "Upper limit passed - No need to remove outlier\n",
      "---------------------------------------------\n",
      "Detect Outlier for crop: maize (in Nutrient P)\n",
      "Lower limit: 22.875 Upper limit: 75.875\n",
      "Minimum value: 35   Maximum Value: 60\n",
      "Lower limit passed - No need to remove outlier\n",
      "Upper limit passed - No need to remove outlier\n",
      "---------------------------------------------\n",
      "Detect Outlier for crop: chickpea (in Nutrient P)\n",
      "Lower limit: 41.5 Upper limit: 93.5\n",
      "Minimum value: 55   Maximum Value: 80\n",
      "Lower limit passed - No need to remove outlier\n",
      "Upper limit passed - No need to remove outlier\n",
      "---------------------------------------------\n",
      "Detect Outlier for crop: kidneybeans (in Nutrient P)\n",
      "Lower limit: 41.5 Upper limit: 93.5\n",
      "Minimum value: 55   Maximum Value: 80\n",
      "Lower limit passed - No need to remove outlier\n",
      "Upper limit passed - No need to remove outlier\n",
      "---------------------------------------------\n",
      "Detect Outlier for crop: pigeonpeas (in Nutrient P)\n",
      "Lower limit: 42.625 Upper limit: 91.625\n",
      "Minimum value: 55   Maximum Value: 80\n",
      "Lower limit passed - No need to remove outlier\n",
      "Upper limit passed - No need to remove outlier\n",
      "---------------------------------------------\n",
      "Detect Outlier for crop: mothbeans (in Nutrient P)\n",
      "Lower limit: 24.375 Upper limit: 73.375\n",
      "Minimum value: 35   Maximum Value: 60\n",
      "Lower limit passed - No need to remove outlier\n",
      "Upper limit passed - No need to remove outlier\n",
      "---------------------------------------------\n",
      "Detect Outlier for crop: mungbean (in Nutrient P)\n",
      "Lower limit: 18.625 Upper limit: 75.625\n",
      "Minimum value: 35   Maximum Value: 60\n",
      "Lower limit passed - No need to remove outlier\n",
      "Upper limit passed - No need to remove outlier\n",
      "---------------------------------------------\n",
      "Detect Outlier for crop: blackgram (in Nutrient P)\n",
      "Lower limit: 44.0 Upper limit: 92.0\n",
      "Minimum value: 55   Maximum Value: 80\n",
      "Lower limit passed - No need to remove outlier\n",
      "Upper limit passed - No need to remove outlier\n",
      "---------------------------------------------\n",
      "Detect Outlier for crop: lentil (in Nutrient P)\n",
      "Lower limit: 41.875 Upper limit: 94.875\n",
      "Minimum value: 55   Maximum Value: 80\n",
      "Lower limit passed - No need to remove outlier\n",
      "Upper limit passed - No need to remove outlier\n",
      "---------------------------------------------\n",
      "Detect Outlier for crop: pomegranate (in Nutrient P)\n",
      "Lower limit: -5.0 Upper limit: 43.0\n",
      "Minimum value: 5   Maximum Value: 30\n",
      "Lower limit passed - No need to remove outlier\n",
      "Upper limit passed - No need to remove outlier\n",
      "---------------------------------------------\n",
      "Detect Outlier for crop: banana (in Nutrient P)\n",
      "Lower limit: 55.5 Upper limit: 107.5\n",
      "Minimum value: 70   Maximum Value: 95\n",
      "Lower limit passed - No need to remove outlier\n",
      "Upper limit passed - No need to remove outlier\n",
      "---------------------------------------------\n",
      "Detect Outlier for crop: mango (in Nutrient P)\n",
      "Lower limit: -3.125 Upper limit: 57.875\n",
      "Minimum value: 15   Maximum Value: 40\n",
      "Lower limit passed - No need to remove outlier\n",
      "Upper limit passed - No need to remove outlier\n",
      "---------------------------------------------\n",
      "Detect Outlier for crop: grapes (in Nutrient P)\n",
      "Lower limit: 105.875 Upper limit: 158.875\n",
      "Minimum value: 120   Maximum Value: 145\n",
      "Lower limit passed - No need to remove outlier\n",
      "Upper limit passed - No need to remove outlier\n",
      "---------------------------------------------\n",
      "Detect Outlier for crop: watermelon (in Nutrient P)\n",
      "Lower limit: -9.5 Upper limit: 42.5\n",
      "Minimum value: 5   Maximum Value: 30\n",
      "Lower limit passed - No need to remove outlier\n",
      "Upper limit passed - No need to remove outlier\n",
      "---------------------------------------------\n",
      "Detect Outlier for crop: muskmelon (in Nutrient P)\n",
      "Lower limit: -7.5 Upper limit: 44.5\n",
      "Minimum value: 5   Maximum Value: 30\n",
      "Lower limit passed - No need to remove outlier\n",
      "Upper limit passed - No need to remove outlier\n",
      "---------------------------------------------\n",
      "Detect Outlier for crop: apple (in Nutrient P)\n",
      "Lower limit: 105.375 Upper limit: 162.375\n",
      "Minimum value: 120   Maximum Value: 145\n",
      "Lower limit passed - No need to remove outlier\n",
      "Upper limit passed - No need to remove outlier\n",
      "---------------------------------------------\n",
      "Detect Outlier for crop: orange (in Nutrient P)\n",
      "Lower limit: -12.0 Upper limit: 44.0\n",
      "Minimum value: 5   Maximum Value: 30\n",
      "Lower limit passed - No need to remove outlier\n",
      "Upper limit passed - No need to remove outlier\n",
      "---------------------------------------------\n",
      "Detect Outlier for crop: papaya (in Nutrient P)\n",
      "Lower limit: 37.5 Upper limit: 81.5\n",
      "Minimum value: 46   Maximum Value: 70\n",
      "Lower limit passed - No need to remove outlier\n",
      "Upper limit passed - No need to remove outlier\n",
      "---------------------------------------------\n",
      "Detect Outlier for crop: coconut (in Nutrient P)\n",
      "Lower limit: -12.0 Upper limit: 46.0\n",
      "Minimum value: 5   Maximum Value: 30\n",
      "Lower limit passed - No need to remove outlier\n",
      "Upper limit passed - No need to remove outlier\n",
      "---------------------------------------------\n",
      "Detect Outlier for crop: cotton (in Nutrient P)\n",
      "Lower limit: 22.0 Upper limit: 70.0\n",
      "Minimum value: 35   Maximum Value: 60\n",
      "Lower limit passed - No need to remove outlier\n",
      "Upper limit passed - No need to remove outlier\n",
      "---------------------------------------------\n",
      "Detect Outlier for crop: jute (in Nutrient P)\n",
      "Lower limit: 22.625 Upper limit: 71.625\n",
      "Minimum value: 35   Maximum Value: 60\n",
      "Lower limit passed - No need to remove outlier\n",
      "Upper limit passed - No need to remove outlier\n",
      "---------------------------------------------\n",
      "Detect Outlier for crop: coffee (in Nutrient P)\n",
      "Lower limit: 6.125 Upper limit: 51.125\n",
      "Minimum value: 15   Maximum Value: 40\n",
      "Lower limit passed - No need to remove outlier\n",
      "Upper limit passed - No need to remove outlier\n",
      "---------------------------------------------\n"
     ]
    }
   ],
   "source": [
    "for i in df['label'].unique():\n",
    "    print('Detect Outlier for crop:',i,'(in Nutrient P)')\n",
    "    detect_outlier(df['P'][df['label']==i])\n",
    "    print('---------------------------------------------')"
   ]
  },
  {
   "cell_type": "code",
   "execution_count": 61,
   "metadata": {
    "execution": {
     "iopub.execute_input": "2024-09-09T04:30:20.013705Z",
     "iopub.status.busy": "2024-09-09T04:30:20.010861Z",
     "iopub.status.idle": "2024-09-09T04:30:20.120587Z",
     "shell.execute_reply": "2024-09-09T04:30:20.121344Z",
     "shell.execute_reply.started": "2024-09-09T03:52:06.242683Z"
    },
    "papermill": {
     "duration": 0.172922,
     "end_time": "2024-09-09T04:30:20.121524",
     "exception": false,
     "start_time": "2024-09-09T04:30:19.948602",
     "status": "completed"
    },
    "tags": []
   },
   "outputs": [
    {
     "name": "stdout",
     "output_type": "stream",
     "text": [
      "Detect Outlier for crop: rice (in Nutrient K)\n",
      "Lower limit: 32.0 Upper limit: 48.0\n",
      "Minimum value: 35   Maximum Value: 45\n",
      "Lower limit passed - No need to remove outlier\n",
      "Upper limit passed - No need to remove outlier\n",
      "---------------------------------------------\n",
      "Detect Outlier for crop: maize (in Nutrient K)\n",
      "Lower limit: 9.5 Upper limit: 29.5\n",
      "Minimum value: 15   Maximum Value: 25\n",
      "Lower limit passed - No need to remove outlier\n",
      "Upper limit passed - No need to remove outlier\n",
      "---------------------------------------------\n",
      "Detect Outlier for crop: chickpea (in Nutrient K)\n",
      "Lower limit: 68.0 Upper limit: 92.0\n",
      "Minimum value: 75   Maximum Value: 85\n",
      "Lower limit passed - No need to remove outlier\n",
      "Upper limit passed - No need to remove outlier\n",
      "---------------------------------------------\n",
      "Detect Outlier for crop: kidneybeans (in Nutrient K)\n",
      "Lower limit: 9.125 Upper limit: 30.125\n",
      "Minimum value: 15   Maximum Value: 25\n",
      "Lower limit passed - No need to remove outlier\n",
      "Upper limit passed - No need to remove outlier\n",
      "---------------------------------------------\n",
      "Detect Outlier for crop: pigeonpeas (in Nutrient K)\n",
      "Lower limit: 10.5 Upper limit: 30.5\n",
      "Minimum value: 15   Maximum Value: 25\n",
      "Lower limit passed - No need to remove outlier\n",
      "Upper limit passed - No need to remove outlier\n",
      "---------------------------------------------\n",
      "Detect Outlier for crop: mothbeans (in Nutrient K)\n",
      "Lower limit: 10.5 Upper limit: 30.5\n",
      "Minimum value: 15   Maximum Value: 25\n",
      "Lower limit passed - No need to remove outlier\n",
      "Upper limit passed - No need to remove outlier\n",
      "---------------------------------------------\n",
      "Detect Outlier for crop: mungbean (in Nutrient K)\n",
      "Lower limit: 9.5 Upper limit: 29.5\n",
      "Minimum value: 15   Maximum Value: 25\n",
      "Lower limit passed - No need to remove outlier\n",
      "Upper limit passed - No need to remove outlier\n",
      "---------------------------------------------\n",
      "Detect Outlier for crop: blackgram (in Nutrient K)\n",
      "Lower limit: 8.875 Upper limit: 29.875\n",
      "Minimum value: 15   Maximum Value: 25\n",
      "Lower limit passed - No need to remove outlier\n",
      "Upper limit passed - No need to remove outlier\n",
      "---------------------------------------------\n",
      "Detect Outlier for crop: lentil (in Nutrient K)\n",
      "Lower limit: 9.5 Upper limit: 29.5\n",
      "Minimum value: 15   Maximum Value: 25\n",
      "Lower limit passed - No need to remove outlier\n",
      "Upper limit passed - No need to remove outlier\n",
      "---------------------------------------------\n",
      "Detect Outlier for crop: pomegranate (in Nutrient K)\n",
      "Lower limit: 30.5 Upper limit: 50.5\n",
      "Minimum value: 35   Maximum Value: 45\n",
      "Lower limit passed - No need to remove outlier\n",
      "Upper limit passed - No need to remove outlier\n",
      "---------------------------------------------\n",
      "Detect Outlier for crop: banana (in Nutrient K)\n",
      "Lower limit: 38.0 Upper limit: 62.0\n",
      "Minimum value: 45   Maximum Value: 55\n",
      "Lower limit passed - No need to remove outlier\n",
      "Upper limit passed - No need to remove outlier\n",
      "---------------------------------------------\n",
      "Detect Outlier for crop: mango (in Nutrient K)\n",
      "Lower limit: 19.5 Upper limit: 39.5\n",
      "Minimum value: 25   Maximum Value: 35\n",
      "Lower limit passed - No need to remove outlier\n",
      "Upper limit passed - No need to remove outlier\n",
      "---------------------------------------------\n",
      "Detect Outlier for crop: grapes (in Nutrient K)\n",
      "Lower limit: 188.0 Upper limit: 212.0\n",
      "Minimum value: 195   Maximum Value: 205\n",
      "Lower limit passed - No need to remove outlier\n",
      "Upper limit passed - No need to remove outlier\n",
      "---------------------------------------------\n",
      "Detect Outlier for crop: watermelon (in Nutrient K)\n",
      "Lower limit: 38.0 Upper limit: 62.0\n",
      "Minimum value: 45   Maximum Value: 55\n",
      "Lower limit passed - No need to remove outlier\n",
      "Upper limit passed - No need to remove outlier\n",
      "---------------------------------------------\n",
      "Detect Outlier for crop: muskmelon (in Nutrient K)\n",
      "Lower limit: 39.125 Upper limit: 60.125\n",
      "Minimum value: 45   Maximum Value: 55\n",
      "Lower limit passed - No need to remove outlier\n",
      "Upper limit passed - No need to remove outlier\n",
      "---------------------------------------------\n",
      "Detect Outlier for crop: apple (in Nutrient K)\n",
      "Lower limit: 188.0 Upper limit: 212.0\n",
      "Minimum value: 195   Maximum Value: 205\n",
      "Lower limit passed - No need to remove outlier\n",
      "Upper limit passed - No need to remove outlier\n",
      "---------------------------------------------\n",
      "Detect Outlier for crop: orange (in Nutrient K)\n",
      "Lower limit: 1.625 Upper limit: 18.625\n",
      "Minimum value: 5   Maximum Value: 15\n",
      "Lower limit passed - No need to remove outlier\n",
      "Upper limit passed - No need to remove outlier\n",
      "---------------------------------------------\n",
      "Detect Outlier for crop: papaya (in Nutrient K)\n",
      "Lower limit: 39.5 Upper limit: 59.5\n",
      "Minimum value: 45   Maximum Value: 55\n",
      "Lower limit passed - No need to remove outlier\n",
      "Upper limit passed - No need to remove outlier\n",
      "---------------------------------------------\n",
      "Detect Outlier for crop: coconut (in Nutrient K)\n",
      "Lower limit: 23.0 Upper limit: 39.0\n",
      "Minimum value: 25   Maximum Value: 35\n",
      "Lower limit passed - No need to remove outlier\n",
      "Upper limit passed - No need to remove outlier\n",
      "---------------------------------------------\n",
      "Detect Outlier for crop: cotton (in Nutrient K)\n",
      "Lower limit: 9.5 Upper limit: 29.5\n",
      "Minimum value: 15   Maximum Value: 25\n",
      "Lower limit passed - No need to remove outlier\n",
      "Upper limit passed - No need to remove outlier\n",
      "---------------------------------------------\n",
      "Detect Outlier for crop: jute (in Nutrient K)\n",
      "Lower limit: 28.0 Upper limit: 52.0\n",
      "Minimum value: 35   Maximum Value: 45\n",
      "Lower limit passed - No need to remove outlier\n",
      "Upper limit passed - No need to remove outlier\n",
      "---------------------------------------------\n",
      "Detect Outlier for crop: coffee (in Nutrient K)\n",
      "Lower limit: 18.0 Upper limit: 42.0\n",
      "Minimum value: 25   Maximum Value: 35\n",
      "Lower limit passed - No need to remove outlier\n",
      "Upper limit passed - No need to remove outlier\n",
      "---------------------------------------------\n"
     ]
    }
   ],
   "source": [
    "for i in df['label'].unique():\n",
    "    print('Detect Outlier for crop:',i,'(in Nutrient K)')\n",
    "    detect_outlier(df['K'][df['label']==i])\n",
    "    print('---------------------------------------------')"
   ]
  },
  {
   "cell_type": "code",
   "execution_count": 62,
   "metadata": {
    "execution": {
     "iopub.execute_input": "2024-09-09T04:30:20.236231Z",
     "iopub.status.busy": "2024-09-09T04:30:20.235105Z",
     "iopub.status.idle": "2024-09-09T04:30:20.327575Z",
     "shell.execute_reply": "2024-09-09T04:30:20.326792Z",
     "shell.execute_reply.started": "2024-09-09T03:52:06.338381Z"
    },
    "papermill": {
     "duration": 0.1531,
     "end_time": "2024-09-09T04:30:20.327717",
     "exception": false,
     "start_time": "2024-09-09T04:30:20.174617",
     "status": "completed"
    },
    "tags": []
   },
   "outputs": [
    {
     "name": "stdout",
     "output_type": "stream",
     "text": [
      "Detect Outlier for crop: rice (in Temperature)\n",
      "Lower limit: 16.547105671249998 Upper limit: 30.893660181250002\n",
      "Minimum value: 20.0454142   Maximum Value: 26.92995077\n",
      "Lower limit passed - No need to remove outlier\n",
      "Upper limit passed - No need to remove outlier\n",
      "---------------------------------------------\n",
      "Detect Outlier for crop: maize (in Temperature)\n",
      "Lower limit: 12.205486709999999 Upper limit: 32.517732370000004\n",
      "Minimum value: 18.04185513   Maximum Value: 26.54986394\n",
      "Lower limit passed - No need to remove outlier\n",
      "Upper limit passed - No need to remove outlier\n",
      "---------------------------------------------\n",
      "Detect Outlier for crop: chickpea (in Temperature)\n",
      "Lower limit: 15.127426535 Upper limit: 22.462162995\n",
      "Minimum value: 17.02498456   Maximum Value: 20.99502153\n",
      "Lower limit passed - No need to remove outlier\n",
      "Upper limit passed - No need to remove outlier\n",
      "---------------------------------------------\n",
      "Detect Outlier for crop: kidneybeans (in Temperature)\n",
      "Lower limit: 12.731772018750002 Upper limit: 27.566035508749998\n",
      "Minimum value: 15.33042636   Maximum Value: 24.92360104\n",
      "Lower limit passed - No need to remove outlier\n",
      "Upper limit passed - No need to remove outlier\n",
      "---------------------------------------------\n",
      "Detect Outlier for crop: pigeonpeas (in Temperature)\n",
      "Lower limit: 9.957323371250004 Upper limit: 44.38163798125\n",
      "Minimum value: 18.31910448   Maximum Value: 36.97794384\n",
      "Lower limit passed - No need to remove outlier\n",
      "Upper limit passed - No need to remove outlier\n",
      "---------------------------------------------\n",
      "Detect Outlier for crop: mothbeans (in Temperature)\n",
      "Lower limit: 20.88721006625 Upper limit: 35.662427236250004\n",
      "Minimum value: 24.01825377   Maximum Value: 31.99928579\n",
      "Lower limit passed - No need to remove outlier\n",
      "Upper limit passed - No need to remove outlier\n",
      "---------------------------------------------\n",
      "Detect Outlier for crop: mungbean (in Temperature)\n",
      "Lower limit: 25.823702553749992 Upper limit: 31.303563463750006\n",
      "Minimum value: 27.01470397   Maximum Value: 29.91454430000001\n",
      "Lower limit passed - No need to remove outlier\n",
      "Upper limit passed - No need to remove outlier\n",
      "---------------------------------------------\n",
      "Detect Outlier for crop: blackgram (in Temperature)\n",
      "Lower limit: 20.987356576250004 Upper limit: 39.215107366249995\n",
      "Minimum value: 25.09737391   Maximum Value: 34.9466155\n",
      "Lower limit passed - No need to remove outlier\n",
      "Upper limit passed - No need to remove outlier\n",
      "---------------------------------------------\n",
      "Detect Outlier for crop: lentil (in Temperature)\n",
      "Lower limit: 13.163444683750008 Upper limit: 35.99189899374999\n",
      "Minimum value: 18.06486101   Maximum Value: 29.94413861\n",
      "Lower limit passed - No need to remove outlier\n",
      "Upper limit passed - No need to remove outlier\n",
      "---------------------------------------------\n",
      "Detect Outlier for crop: pomegranate (in Temperature)\n",
      "Lower limit: 13.660441731250003 Upper limit: 30.021242601249995\n",
      "Minimum value: 18.07132963   Maximum Value: 24.96273236\n",
      "Lower limit passed - No need to remove outlier\n",
      "Upper limit passed - No need to remove outlier\n",
      "---------------------------------------------\n",
      "Detect Outlier for crop: banana (in Temperature)\n",
      "Lower limit: 22.284417318749995 Upper limit: 32.48172530875001\n",
      "Minimum value: 25.01018457   Maximum Value: 29.90888522\n",
      "Lower limit passed - No need to remove outlier\n",
      "Upper limit passed - No need to remove outlier\n",
      "---------------------------------------------\n",
      "Detect Outlier for crop: mango (in Temperature)\n",
      "Lower limit: 22.207320788749996 Upper limit: 40.08776821875\n",
      "Minimum value: 27.00315545   Maximum Value: 35.99009679\n",
      "Lower limit passed - No need to remove outlier\n",
      "Upper limit passed - No need to remove outlier\n",
      "---------------------------------------------\n",
      "Detect Outlier for crop: grapes (in Temperature)\n",
      "Lower limit: -5.719165791249999 Upper limit: 52.74933695875\n",
      "Minimum value: 8.825674745   Maximum Value: 41.94865736\n",
      "Lower limit passed - No need to remove outlier\n",
      "Upper limit passed - No need to remove outlier\n",
      "---------------------------------------------\n",
      "Detect Outlier for crop: watermelon (in Temperature)\n",
      "Lower limit: 22.854565599999997 Upper limit: 28.307851940000003\n",
      "Minimum value: 24.04355803   Maximum Value: 26.98603693\n",
      "Lower limit passed - No need to remove outlier\n",
      "Upper limit passed - No need to remove outlier\n",
      "---------------------------------------------\n",
      "Detect Outlier for crop: muskmelon (in Temperature)\n",
      "Lower limit: 25.8432626675 Upper limit: 31.486102687500008\n",
      "Minimum value: 27.02415146   Maximum Value: 29.94349168\n",
      "Lower limit passed - No need to remove outlier\n",
      "Upper limit passed - No need to remove outlier\n",
      "---------------------------------------------\n",
      "Detect Outlier for crop: apple (in Temperature)\n",
      "Lower limit: 20.391916161250002 Upper limit: 25.115356551249995\n",
      "Minimum value: 21.0365275   Maximum Value: 23.99686172\n",
      "Lower limit passed - No need to remove outlier\n",
      "Upper limit passed - No need to remove outlier\n",
      "---------------------------------------------\n",
      "Detect Outlier for crop: orange (in Temperature)\n",
      "Lower limit: -1.704129688750001 Upper limit: 48.30397560125\n",
      "Minimum value: 10.01081312   Maximum Value: 34.90665289\n",
      "Lower limit passed - No need to remove outlier\n",
      "Upper limit passed - No need to remove outlier\n",
      "---------------------------------------------\n",
      "Detect Outlier for crop: papaya (in Temperature)\n",
      "Lower limit: 12.779100847499997 Upper limit: 54.8474294875\n",
      "Minimum value: 23.01240180000001   Maximum Value: 43.67549305\n",
      "Lower limit passed - No need to remove outlier\n",
      "Upper limit passed - No need to remove outlier\n",
      "---------------------------------------------\n",
      "Detect Outlier for crop: coconut (in Temperature)\n",
      "Lower limit: 22.771474292500002 Upper limit: 32.097456872500004\n",
      "Minimum value: 25.00872392   Maximum Value: 29.8690834\n",
      "Lower limit passed - No need to remove outlier\n",
      "Upper limit passed - No need to remove outlier\n",
      "---------------------------------------------\n",
      "Detect Outlier for crop: cotton (in Temperature)\n",
      "Lower limit: 20.083435235000003 Upper limit: 27.907915595\n",
      "Minimum value: 22.00085141   Maximum Value: 25.99237426\n",
      "Lower limit passed - No need to remove outlier\n",
      "Upper limit passed - No need to remove outlier\n",
      "---------------------------------------------\n",
      "Detect Outlier for crop: jute (in Temperature)\n",
      "Lower limit: 20.8745442975 Upper limit: 28.907036757500002\n",
      "Minimum value: 23.09433785   Maximum Value: 26.98582182\n",
      "Lower limit passed - No need to remove outlier\n",
      "Upper limit passed - No need to remove outlier\n",
      "---------------------------------------------\n",
      "Detect Outlier for crop: coffee (in Temperature)\n",
      "Lower limit: 20.428973170000003 Upper limit: 30.534545570000002\n",
      "Minimum value: 23.05951896   Maximum Value: 27.92374437\n",
      "Lower limit passed - No need to remove outlier\n",
      "Upper limit passed - No need to remove outlier\n",
      "---------------------------------------------\n"
     ]
    }
   ],
   "source": [
    "for i in df['label'].unique():\n",
    "    print('Detect Outlier for crop:',i, '(in Temperature)')\n",
    "    detect_outlier(df['temperature'][df['label']==i])\n",
    "    print('---------------------------------------------')"
   ]
  },
  {
   "cell_type": "code",
   "execution_count": 63,
   "metadata": {
    "execution": {
     "iopub.execute_input": "2024-09-09T04:30:20.451956Z",
     "iopub.status.busy": "2024-09-09T04:30:20.450930Z",
     "iopub.status.idle": "2024-09-09T04:30:20.536956Z",
     "shell.execute_reply": "2024-09-09T04:30:20.537745Z",
     "shell.execute_reply.started": "2024-09-09T03:52:06.427412Z"
    },
    "papermill": {
     "duration": 0.156612,
     "end_time": "2024-09-09T04:30:20.537979",
     "exception": false,
     "start_time": "2024-09-09T04:30:20.381367",
     "status": "completed"
    },
    "tags": []
   },
   "outputs": [
    {
     "name": "stdout",
     "output_type": "stream",
     "text": [
      "Detect Outlier for crop: rice (in Humadity)\n",
      "Lower limit: 77.17485294000002 Upper limit: 87.24749447999997\n",
      "Minimum value: 80.12267476   Maximum Value: 84.96907151\n",
      "Lower limit passed - No need to remove outlier\n",
      "Upper limit passed - No need to remove outlier\n",
      "---------------------------------------------\n",
      "Detect Outlier for crop: maize (in Humadity)\n",
      "Lower limit: 47.30231501124999 Upper limit: 82.70916452125002\n",
      "Minimum value: 55.28220433   Maximum Value: 74.82913698\n",
      "Lower limit passed - No need to remove outlier\n",
      "Upper limit passed - No need to remove outlier\n",
      "---------------------------------------------\n",
      "Detect Outlier for crop: chickpea (in Humadity)\n",
      "Lower limit: 11.082770396250005 Upper limit: 22.575915026249994\n",
      "Minimum value: 14.25803981   Maximum Value: 19.96978871\n",
      "Lower limit passed - No need to remove outlier\n",
      "Upper limit passed - No need to remove outlier\n",
      "---------------------------------------------\n",
      "Detect Outlier for crop: kidneybeans (in Humadity)\n",
      "Lower limit: 14.303959232499995 Upper limit: 28.789118772500007\n",
      "Minimum value: 18.09224048   Maximum Value: 24.96969858\n",
      "Lower limit passed - No need to remove outlier\n",
      "Upper limit passed - No need to remove outlier\n",
      "---------------------------------------------\n",
      "Detect Outlier for crop: pigeonpeas (in Humadity)\n",
      "Lower limit: 10.406597370000007 Upper limit: 84.96307897\n",
      "Minimum value: 30.40046769   Maximum Value: 69.69141302\n",
      "Lower limit passed - No need to remove outlier\n",
      "Upper limit passed - No need to remove outlier\n",
      "---------------------------------------------\n",
      "Detect Outlier for crop: mothbeans (in Humadity)\n",
      "Lower limit: 27.661462105 Upper limit: 78.501910425\n",
      "Minimum value: 40.00933429   Maximum Value: 64.95585424\n",
      "Lower limit passed - No need to remove outlier\n",
      "Upper limit passed - No need to remove outlier\n",
      "---------------------------------------------\n",
      "Detect Outlier for crop: mungbean (in Humadity)\n",
      "Lower limit: 76.82572770125002 Upper limit: 94.43598689124998\n",
      "Minimum value: 80.03499648   Maximum Value: 89.99615558\n",
      "Lower limit passed - No need to remove outlier\n",
      "Upper limit passed - No need to remove outlier\n",
      "---------------------------------------------\n",
      "Detect Outlier for crop: blackgram (in Humadity)\n",
      "Lower limit: 55.989574212499996 Upper limit: 74.79212845250001\n",
      "Minimum value: 60.06534859   Maximum Value: 69.96100028\n",
      "Lower limit passed - No need to remove outlier\n",
      "Upper limit passed - No need to remove outlier\n",
      "---------------------------------------------\n",
      "Detect Outlier for crop: lentil (in Humadity)\n",
      "Lower limit: 55.07072572749999 Upper limit: 74.8635291075\n",
      "Minimum value: 60.09116626   Maximum Value: 69.92375891\n",
      "Lower limit passed - No need to remove outlier\n",
      "Upper limit passed - No need to remove outlier\n",
      "---------------------------------------------\n",
      "Detect Outlier for crop: pomegranate (in Humadity)\n",
      "Lower limit: 81.60312697375 Upper limit: 98.93084450375002\n",
      "Minimum value: 85.12912161   Maximum Value: 94.99897537\n",
      "Lower limit passed - No need to remove outlier\n",
      "Upper limit passed - No need to remove outlier\n",
      "---------------------------------------------\n",
      "Detect Outlier for crop: banana (in Humadity)\n",
      "Lower limit: 70.71521126374998 Upper limit: 90.30725739375\n",
      "Minimum value: 75.03193255   Maximum Value: 84.97849241\n",
      "Lower limit passed - No need to remove outlier\n",
      "Upper limit passed - No need to remove outlier\n",
      "---------------------------------------------\n",
      "Detect Outlier for crop: mango (in Humadity)\n",
      "Lower limit: 41.102240926250005 Upper limit: 59.311155256250004\n",
      "Minimum value: 45.02236377   Maximum Value: 54.9640534\n",
      "Lower limit passed - No need to remove outlier\n",
      "Upper limit passed - No need to remove outlier\n",
      "---------------------------------------------\n",
      "Detect Outlier for crop: grapes (in Humadity)\n",
      "Lower limit: 77.79980635 Upper limit: 85.95887429\n",
      "Minimum value: 80.01639435   Maximum Value: 83.98351748\n",
      "Lower limit passed - No need to remove outlier\n",
      "Upper limit passed - No need to remove outlier\n",
      "---------------------------------------------\n",
      "Detect Outlier for crop: watermelon (in Humadity)\n",
      "Lower limit: 76.048642855 Upper limit: 94.60256527499999\n",
      "Minimum value: 80.02621335   Maximum Value: 89.98405233\n",
      "Lower limit passed - No need to remove outlier\n",
      "Upper limit passed - No need to remove outlier\n",
      "---------------------------------------------\n",
      "Detect Outlier for crop: muskmelon (in Humadity)\n",
      "Lower limit: 86.71557865500003 Upper limit: 98.04033613499999\n",
      "Minimum value: 90.01506395   Maximum Value: 94.96218673\n",
      "Lower limit passed - No need to remove outlier\n",
      "Upper limit passed - No need to remove outlier\n",
      "---------------------------------------------\n",
      "Detect Outlier for crop: apple (in Humadity)\n",
      "Lower limit: 87.16144002250002 Upper limit: 97.3179394425\n",
      "Minimum value: 90.02575116   Maximum Value: 94.92048112\n",
      "Lower limit passed - No need to remove outlier\n",
      "Upper limit passed - No need to remove outlier\n",
      "---------------------------------------------\n",
      "Detect Outlier for crop: orange (in Humadity)\n",
      "Lower limit: 87.53643827000002 Upper limit: 96.86427727\n",
      "Minimum value: 90.00621688   Maximum Value: 94.96419851\n",
      "Lower limit passed - No need to remove outlier\n",
      "Upper limit passed - No need to remove outlier\n",
      "---------------------------------------------\n",
      "Detect Outlier for crop: papaya (in Humadity)\n",
      "Lower limit: 87.65598226124999 Upper limit: 97.02529903125\n",
      "Minimum value: 90.03863107   Maximum Value: 94.94482086\n",
      "Lower limit passed - No need to remove outlier\n",
      "Upper limit passed - No need to remove outlier\n",
      "---------------------------------------------\n",
      "Detect Outlier for crop: coconut (in Humadity)\n",
      "Lower limit: 86.22296323625 Upper limit: 103.08171592625001\n",
      "Minimum value: 90.01734526   Maximum Value: 99.98187601\n",
      "Lower limit passed - No need to remove outlier\n",
      "Upper limit passed - No need to remove outlier\n",
      "---------------------------------------------\n",
      "Detect Outlier for crop: cotton (in Humadity)\n",
      "Lower limit: 69.04009997374999 Upper limit: 90.35985402375002\n",
      "Minimum value: 75.00539324   Maximum Value: 84.87668973\n",
      "Lower limit passed - No need to remove outlier\n",
      "Upper limit passed - No need to remove outlier\n",
      "---------------------------------------------\n",
      "Detect Outlier for crop: jute (in Humadity)\n",
      "Lower limit: 61.62142702999999 Upper limit: 96.19966525\n",
      "Minimum value: 70.88259632   Maximum Value: 89.89106506\n",
      "Lower limit passed - No need to remove outlier\n",
      "Upper limit passed - No need to remove outlier\n",
      "---------------------------------------------\n",
      "Detect Outlier for crop: coffee (in Humadity)\n",
      "Lower limit: 39.166704678749994 Upper limit: 78.22731426875\n",
      "Minimum value: 50.04557009   Maximum Value: 69.94807345\n",
      "Lower limit passed - No need to remove outlier\n",
      "Upper limit passed - No need to remove outlier\n",
      "---------------------------------------------\n"
     ]
    }
   ],
   "source": [
    "for i in df['label'].unique():\n",
    "    print('Detect Outlier for crop:',i,'(in Humadity)')\n",
    "    detect_outlier(df['humidity'][df['label']==i])\n",
    "    print('---------------------------------------------')"
   ]
  },
  {
   "cell_type": "code",
   "execution_count": 64,
   "metadata": {
    "execution": {
     "iopub.execute_input": "2024-09-09T04:30:20.660044Z",
     "iopub.status.busy": "2024-09-09T04:30:20.658960Z",
     "iopub.status.idle": "2024-09-09T04:30:20.750458Z",
     "shell.execute_reply": "2024-09-09T04:30:20.749374Z",
     "shell.execute_reply.started": "2024-09-09T03:52:06.526053Z"
    },
    "papermill": {
     "duration": 0.157151,
     "end_time": "2024-09-09T04:30:20.750648",
     "exception": false,
     "start_time": "2024-09-09T04:30:20.593497",
     "status": "completed"
    },
    "tags": []
   },
   "outputs": [
    {
     "name": "stdout",
     "output_type": "stream",
     "text": [
      "Detect Outlier for crop: rice (in pH)\n",
      "Lower limit: 4.116260276125001 Upper limit: 8.792879095124999\n",
      "Minimum value: 5.005306977   Maximum Value: 7.868474653\n",
      "Lower limit passed - No need to remove outlier\n",
      "Upper limit passed - No need to remove outlier\n",
      "---------------------------------------------\n",
      "Detect Outlier for crop: maize (in pH)\n",
      "Lower limit: 4.733284512375 Upper limit: 7.723815347375001\n",
      "Minimum value: 5.513697923   Maximum Value: 6.995843776\n",
      "Lower limit passed - No need to remove outlier\n",
      "Upper limit passed - No need to remove outlier\n",
      "---------------------------------------------\n",
      "Detect Outlier for crop: chickpea (in pH)\n",
      "Lower limit: 4.7174803262500005 Upper limit: 9.74811105025\n",
      "Minimum value: 5.988992796000002   Maximum Value: 8.868741443\n",
      "Lower limit passed - No need to remove outlier\n",
      "Upper limit passed - No need to remove outlier\n",
      "---------------------------------------------\n",
      "Detect Outlier for crop: kidneybeans (in pH)\n",
      "Lower limit: 5.259960362500001 Upper limit: 6.2333857864999995\n",
      "Minimum value: 5.502999119   Maximum Value: 5.99812453\n",
      "Lower limit passed - No need to remove outlier\n",
      "Upper limit passed - No need to remove outlier\n",
      "---------------------------------------------\n",
      "Detect Outlier for crop: pigeonpeas (in pH)\n",
      "Lower limit: 2.879812957624998 Upper limit: 8.542486802625001\n",
      "Minimum value: 4.548202098   Maximum Value: 7.445444882999999\n",
      "Lower limit passed - No need to remove outlier\n",
      "Upper limit passed - No need to remove outlier\n",
      "---------------------------------------------\n",
      "Detect Outlier for crop: mothbeans (in pH)\n",
      "Lower limit: 0.8973884882500043 Upper limit: 12.847171034249994\n",
      "Minimum value: 3.504752314   Maximum Value: 9.93509073\n",
      "Lower limit passed - No need to remove outlier\n",
      "Upper limit passed - No need to remove outlier\n",
      "---------------------------------------------\n",
      "Detect Outlier for crop: mungbean (in pH)\n",
      "Lower limit: 5.711175062375001 Upper limit: 7.744657183375\n",
      "Minimum value: 6.218923893   Maximum Value: 7.199495367999999\n",
      "Lower limit passed - No need to remove outlier\n",
      "Upper limit passed - No need to remove outlier\n",
      "---------------------------------------------\n",
      "Detect Outlier for crop: blackgram (in pH)\n",
      "Lower limit: 5.902755391624999 Upper limit: 8.329370894625\n",
      "Minimum value: 6.500144962   Maximum Value: 7.775306272000001\n",
      "Lower limit passed - No need to remove outlier\n",
      "Upper limit passed - No need to remove outlier\n",
      "---------------------------------------------\n",
      "Detect Outlier for crop: lentil (in pH)\n",
      "Lower limit: 5.121513682500002 Upper limit: 8.7579633165\n",
      "Minimum value: 5.91645379   Maximum Value: 7.841496029\n",
      "Lower limit passed - No need to remove outlier\n",
      "Upper limit passed - No need to remove outlier\n",
      "---------------------------------------------\n",
      "Detect Outlier for crop: pomegranate (in pH)\n",
      "Lower limit: 4.589665735875002 Upper limit: 8.266921372875\n",
      "Minimum value: 5.561851831   Maximum Value: 7.199504273\n",
      "Lower limit passed - No need to remove outlier\n",
      "Upper limit passed - No need to remove outlier\n",
      "---------------------------------------------\n",
      "Detect Outlier for crop: banana (in pH)\n",
      "Lower limit: 5.035143085874999 Upper limit: 6.916661160875002\n",
      "Minimum value: 5.505393832999999   Maximum Value: 6.490074429\n",
      "Lower limit passed - No need to remove outlier\n",
      "Upper limit passed - No need to remove outlier\n",
      "---------------------------------------------\n",
      "Detect Outlier for crop: mango (in pH)\n",
      "Lower limit: 3.334481078625 Upper limit: 8.265827495625\n",
      "Minimum value: 4.507523551   Maximum Value: 6.9674177660000005\n",
      "Lower limit passed - No need to remove outlier\n",
      "Upper limit passed - No need to remove outlier\n",
      "---------------------------------------------\n",
      "Detect Outlier for crop: grapes (in pH)\n",
      "Lower limit: 4.971568150875002 Upper limit: 7.118996355874999\n",
      "Minimum value: 5.510924848999999   Maximum Value: 6.499604931\n",
      "Lower limit passed - No need to remove outlier\n",
      "Upper limit passed - No need to remove outlier\n",
      "---------------------------------------------\n",
      "Detect Outlier for crop: watermelon (in pH)\n",
      "Lower limit: 5.5128316618749995 Upper limit: 7.503343518875001\n",
      "Minimum value: 6.000975617000001   Maximum Value: 6.956508826\n",
      "Lower limit passed - No need to remove outlier\n",
      "Upper limit passed - No need to remove outlier\n",
      "---------------------------------------------\n",
      "Detect Outlier for crop: muskmelon (in pH)\n",
      "Lower limit: 5.564579593875001 Upper limit: 7.141607884874999\n",
      "Minimum value: 6.002927293   Maximum Value: 6.781050372999999\n",
      "Lower limit passed - No need to remove outlier\n",
      "Upper limit passed - No need to remove outlier\n",
      "---------------------------------------------\n",
      "Detect Outlier for crop: apple (in pH)\n",
      "Lower limit: 5.061076621874999 Upper limit: 6.7803400888750005\n",
      "Minimum value: 5.514253142   Maximum Value: 6.4992268210000015\n",
      "Lower limit passed - No need to remove outlier\n",
      "Upper limit passed - No need to remove outlier\n",
      "---------------------------------------------\n",
      "Detect Outlier for crop: orange (in pH)\n",
      "Lower limit: 4.93667121475 Upper limit: 9.06550713675\n",
      "Minimum value: 6.010391864   Maximum Value: 7.995848977\n",
      "Lower limit passed - No need to remove outlier\n",
      "Upper limit passed - No need to remove outlier\n",
      "---------------------------------------------\n",
      "Detect Outlier for crop: papaya (in pH)\n",
      "Lower limit: 6.280093322625001 Upper limit: 7.175597507624998\n",
      "Minimum value: 6.501521192   Maximum Value: 6.993473247000001\n",
      "Lower limit passed - No need to remove outlier\n",
      "Upper limit passed - No need to remove outlier\n",
      "---------------------------------------------\n",
      "Detect Outlier for crop: coconut (in pH)\n",
      "Lower limit: 5.01383140875 Upper limit: 6.92642319475\n",
      "Minimum value: 5.50158009   Maximum Value: 6.470465614\n",
      "Lower limit passed - No need to remove outlier\n",
      "Upper limit passed - No need to remove outlier\n",
      "---------------------------------------------\n",
      "Detect Outlier for crop: cotton (in pH)\n",
      "Lower limit: 4.7708095588749995 Upper limit: 9.020381337875003\n",
      "Minimum value: 5.801047545   Maximum Value: 7.994679507000001\n",
      "Lower limit passed - No need to remove outlier\n",
      "Upper limit passed - No need to remove outlier\n",
      "---------------------------------------------\n",
      "Detect Outlier for crop: jute (in pH)\n",
      "Lower limit: 5.180235730749999 Upper limit: 8.29430019275\n",
      "Minimum value: 6.002524871   Maximum Value: 7.4880144039999985\n",
      "Lower limit passed - No need to remove outlier\n",
      "Upper limit passed - No need to remove outlier\n",
      "---------------------------------------------\n",
      "Detect Outlier for crop: coffee (in pH)\n",
      "Lower limit: 5.376160809749998 Upper limit: 8.18567217975\n",
      "Minimum value: 6.020947179   Maximum Value: 7.493191968\n",
      "Lower limit passed - No need to remove outlier\n",
      "Upper limit passed - No need to remove outlier\n",
      "---------------------------------------------\n"
     ]
    }
   ],
   "source": [
    "for i in df['label'].unique():\n",
    "    print('Detect Outlier for crop:',i,'(in pH)')\n",
    "    detect_outlier(df['ph'][df['label']==i])\n",
    "    print('---------------------------------------------')"
   ]
  },
  {
   "cell_type": "code",
   "execution_count": 65,
   "metadata": {
    "execution": {
     "iopub.execute_input": "2024-09-09T04:30:20.875653Z",
     "iopub.status.busy": "2024-09-09T04:30:20.873640Z",
     "iopub.status.idle": "2024-09-09T04:30:20.952301Z",
     "shell.execute_reply": "2024-09-09T04:30:20.953159Z",
     "shell.execute_reply.started": "2024-09-09T03:52:06.639614Z"
    },
    "papermill": {
     "duration": 0.141471,
     "end_time": "2024-09-09T04:30:20.953329",
     "exception": false,
     "start_time": "2024-09-09T04:30:20.811858",
     "status": "completed"
    },
    "tags": []
   },
   "outputs": [
    {
     "name": "stdout",
     "output_type": "stream",
     "text": [
      "Detect Outlier for crop: rice (in rainfall)\n",
      "Lower limit: 114.64470175 Upper limit: 353.81622395\n",
      "Minimum value: 182.5616319   Maximum Value: 298.5601175\n",
      "Lower limit passed - No need to remove outlier\n",
      "Upper limit passed - No need to remove outlier\n",
      "---------------------------------------------\n",
      "Detect Outlier for crop: maize (in rainfall)\n",
      "Lower limit: 26.145754846249986 Upper limit: 144.11589141625\n",
      "Minimum value: 60.65171481   Maximum Value: 109.7515385\n",
      "Lower limit passed - No need to remove outlier\n",
      "Upper limit passed - No need to remove outlier\n",
      "---------------------------------------------\n",
      "Detect Outlier for crop: chickpea (in rainfall)\n",
      "Lower limit: 55.289299908749996 Upper limit: 104.14559097875\n",
      "Minimum value: 65.11365631   Maximum Value: 94.78189594\n",
      "Lower limit passed - No need to remove outlier\n",
      "Upper limit passed - No need to remove outlier\n",
      "---------------------------------------------\n",
      "Detect Outlier for crop: kidneybeans (in rainfall)\n",
      "Lower limit: 20.46190557500003 Upper limit: 194.76279981499997\n",
      "Minimum value: 60.27552528   Maximum Value: 149.7441028\n",
      "Lower limit passed - No need to remove outlier\n",
      "Upper limit passed - No need to remove outlier\n",
      "---------------------------------------------\n",
      "Detect Outlier for crop: pigeonpeas (in rainfall)\n",
      "Lower limit: 39.004026762500004 Upper limit: 261.2492448625\n",
      "Minimum value: 90.05422663   Maximum Value: 198.8298806\n",
      "Lower limit passed - No need to remove outlier\n",
      "Upper limit passed - No need to remove outlier\n",
      "---------------------------------------------\n",
      "Detect Outlier for crop: mothbeans (in rainfall)\n",
      "Lower limit: -1.3141105337500036 Upper limit: 103.48456013625001\n",
      "Minimum value: 30.92014047   Maximum Value: 74.44330654\n",
      "Lower limit passed - No need to remove outlier\n",
      "Upper limit passed - No need to remove outlier\n",
      "---------------------------------------------\n",
      "Detect Outlier for crop: mungbean (in rainfall)\n",
      "Lower limit: 25.502280630000005 Upper limit: 72.43833190999999\n",
      "Minimum value: 36.12042927   Maximum Value: 59.87232071\n",
      "Lower limit passed - No need to remove outlier\n",
      "Upper limit passed - No need to remove outlier\n",
      "---------------------------------------------\n",
      "Detect Outlier for crop: blackgram (in rainfall)\n",
      "Lower limit: 53.0275025325 Upper limit: 82.42017681249999\n",
      "Minimum value: 60.41790253   Maximum Value: 74.91559514\n",
      "Lower limit passed - No need to remove outlier\n",
      "Upper limit passed - No need to remove outlier\n",
      "---------------------------------------------\n",
      "Detect Outlier for crop: lentil (in rainfall)\n",
      "Lower limit: 28.932562957500007 Upper limit: 62.6372500775\n",
      "Minimum value: 35.03484812   Maximum Value: 54.93937710000001\n",
      "Lower limit passed - No need to remove outlier\n",
      "Upper limit passed - No need to remove outlier\n",
      "---------------------------------------------\n",
      "Detect Outlier for crop: pomegranate (in rainfall)\n",
      "Lower limit: 97.48116202499999 Upper limit: 117.44433682500004\n",
      "Minimum value: 102.5184759   Maximum Value: 112.4750941\n",
      "Lower limit passed - No need to remove outlier\n",
      "Upper limit passed - No need to remove outlier\n",
      "---------------------------------------------\n",
      "Detect Outlier for crop: banana (in rainfall)\n",
      "Lower limit: 73.03951698749998 Upper limit: 135.5237634075\n",
      "Minimum value: 90.10978128   Maximum Value: 119.84797\n",
      "Lower limit passed - No need to remove outlier\n",
      "Upper limit passed - No need to remove outlier\n",
      "---------------------------------------------\n",
      "Detect Outlier for crop: mango (in rainfall)\n",
      "Lower limit: 82.81802320874999 Upper limit: 106.27042439874998\n",
      "Minimum value: 89.29147581   Maximum Value: 100.8124659\n",
      "Lower limit passed - No need to remove outlier\n",
      "Upper limit passed - No need to remove outlier\n",
      "---------------------------------------------\n",
      "Detect Outlier for crop: grapes (in rainfall)\n",
      "Lower limit: 59.67801711250002 Upper limit: 78.76817545249997\n",
      "Minimum value: 65.01095312   Maximum Value: 74.91506217\n",
      "Lower limit passed - No need to remove outlier\n",
      "Upper limit passed - No need to remove outlier\n",
      "---------------------------------------------\n",
      "Detect Outlier for crop: watermelon (in rainfall)\n",
      "Lower limit: 30.539185162499994 Upper limit: 71.93696076250001\n",
      "Minimum value: 40.12650421   Maximum Value: 59.75980023\n",
      "Lower limit passed - No need to remove outlier\n",
      "Upper limit passed - No need to remove outlier\n",
      "---------------------------------------------\n",
      "Detect Outlier for crop: muskmelon (in rainfall)\n",
      "Lower limit: 14.87753929125 Upper limit: 34.05203820125\n",
      "Minimum value: 20.21126747   Maximum Value: 29.86681385\n",
      "Lower limit passed - No need to remove outlier\n",
      "Upper limit passed - No need to remove outlier\n",
      "---------------------------------------------\n",
      "Detect Outlier for crop: apple (in rainfall)\n",
      "Lower limit: 87.50101862500001 Upper limit: 137.018662425\n",
      "Minimum value: 100.1173443   Maximum Value: 124.9831618\n",
      "Lower limit passed - No need to remove outlier\n",
      "Upper limit passed - No need to remove outlier\n",
      "---------------------------------------------\n",
      "Detect Outlier for crop: orange (in rainfall)\n",
      "Lower limit: 92.20122942500001 Upper limit: 129.584647825\n",
      "Minimum value: 100.1737964   Maximum Value: 119.6946577\n",
      "Lower limit passed - No need to remove outlier\n",
      "Upper limit passed - No need to remove outlier\n",
      "---------------------------------------------\n",
      "Detect Outlier for crop: papaya (in rainfall)\n",
      "Lower limit: -98.73867993749997 Upper limit: 383.07369872249996\n",
      "Minimum value: 40.35153141   Maximum Value: 248.8592986\n",
      "Lower limit passed - No need to remove outlier\n",
      "Upper limit passed - No need to remove outlier\n",
      "---------------------------------------------\n",
      "Detect Outlier for crop: coconut (in rainfall)\n",
      "Lower limit: 69.28896092499998 Upper limit: 282.189007725\n",
      "Minimum value: 131.09000759999998   Maximum Value: 225.6323656\n",
      "Lower limit passed - No need to remove outlier\n",
      "Upper limit passed - No need to remove outlier\n",
      "---------------------------------------------\n",
      "Detect Outlier for crop: cotton (in rainfall)\n",
      "Lower limit: 41.6083397725 Upper limit: 119.7042284125\n",
      "Minimum value: 60.65381719   Maximum Value: 99.93100821\n",
      "Lower limit passed - No need to remove outlier\n",
      "Upper limit passed - No need to remove outlier\n",
      "---------------------------------------------\n",
      "Detect Outlier for crop: jute (in rainfall)\n",
      "Lower limit: 121.26441068749999 Upper limit: 227.4678043875\n",
      "Minimum value: 150.2355238   Maximum Value: 199.83629130000003\n",
      "Lower limit passed - No need to remove outlier\n",
      "Upper limit passed - No need to remove outlier\n",
      "---------------------------------------------\n",
      "Detect Outlier for crop: coffee (in rainfall)\n",
      "Lower limit: 67.8213380624999 Upper limit: 249.6624255625001\n",
      "Minimum value: 115.1564012   Maximum Value: 199.4735636\n",
      "Lower limit passed - No need to remove outlier\n",
      "Upper limit passed - No need to remove outlier\n",
      "---------------------------------------------\n"
     ]
    }
   ],
   "source": [
    "for i in df['label'].unique():\n",
    "    print('Detect Outlier for crop:',i,'(in rainfall)')\n",
    "    detect_outlier(df['rainfall'][df['label']==i])\n",
    "    print('---------------------------------------------')"
   ]
  },
  {
   "cell_type": "markdown",
   "metadata": {
    "execution": {
     "iopub.execute_input": "2024-09-09T02:01:43.427168Z",
     "iopub.status.busy": "2024-09-09T02:01:43.426818Z",
     "iopub.status.idle": "2024-09-09T02:01:43.511702Z",
     "shell.execute_reply": "2024-09-09T02:01:43.510738Z",
     "shell.execute_reply.started": "2024-09-09T02:01:43.427133Z"
    },
    "papermill": {
     "duration": 0.056749,
     "end_time": "2024-09-09T04:30:21.066396",
     "exception": false,
     "start_time": "2024-09-09T04:30:21.009647",
     "status": "completed"
    },
    "tags": []
   },
   "source": [
    "for i in df['label'].unique():\n",
    "    detect_outlier(df['K'][df['label']==i])\n",
    "    print('---------------------------------------------')"
   ]
  },
  {
   "cell_type": "code",
   "execution_count": null,
   "metadata": {
    "papermill": {
     "duration": 0.055345,
     "end_time": "2024-09-09T04:30:21.178514",
     "exception": false,
     "start_time": "2024-09-09T04:30:21.123169",
     "status": "completed"
    },
    "tags": []
   },
   "outputs": [],
   "source": [
    "\n"
   ]
  },
  {
   "cell_type": "code",
   "execution_count": 66,
   "metadata": {
    "execution": {
     "iopub.execute_input": "2024-09-09T04:30:21.304683Z",
     "iopub.status.busy": "2024-09-09T04:30:21.303665Z",
     "iopub.status.idle": "2024-09-09T04:30:21.306488Z",
     "shell.execute_reply": "2024-09-09T04:30:21.307007Z",
     "shell.execute_reply.started": "2024-09-09T03:52:06.752249Z"
    },
    "papermill": {
     "duration": 0.073023,
     "end_time": "2024-09-09T04:30:21.307174",
     "exception": false,
     "start_time": "2024-09-09T04:30:21.234151",
     "status": "completed"
    },
    "tags": []
   },
   "outputs": [],
   "source": [
    "df['soil'].replace('clayey', 1, inplace=True)\n",
    "df['soil'].replace('loamy', 0, inplace=True)\n",
    "df['soil'].replace('sandy', 2, inplace=True)\n",
    "df['soil'].replace('black', 3, inplace=True)\n",
    "df['soil'].replace('red', 4, inplace=True)\n",
    "#print(df_copy)"
   ]
  },
  {
   "cell_type": "code",
   "execution_count": 67,
   "metadata": {
    "execution": {
     "iopub.execute_input": "2024-09-09T04:30:21.423956Z",
     "iopub.status.busy": "2024-09-09T04:30:21.423182Z",
     "iopub.status.idle": "2024-09-09T04:30:21.936244Z",
     "shell.execute_reply": "2024-09-09T04:30:21.936787Z",
     "shell.execute_reply.started": "2024-09-09T03:52:06.770235Z"
    },
    "papermill": {
     "duration": 0.574185,
     "end_time": "2024-09-09T04:30:21.936963",
     "exception": false,
     "start_time": "2024-09-09T04:30:21.362778",
     "status": "completed"
    },
    "tags": []
   },
   "outputs": [
    {
     "ename": "ValueError",
     "evalue": "could not convert string to float: 'rice'",
     "output_type": "error",
     "traceback": [
      "\u001b[1;31m---------------------------------------------------------------------------\u001b[0m",
      "\u001b[1;31mValueError\u001b[0m                                Traceback (most recent call last)",
      "\u001b[1;32mc:\\Users\\arjit\\Desktop\\sarthak-krishi\\NOTEBOOKS\\herik2a-agriml-crop-recommendation.ipynb Cell 26\u001b[0m line \u001b[0;36m1\n\u001b[1;32m----> <a href='vscode-notebook-cell:/c%3A/Users/arjit/Desktop/sarthak-krishi/NOTEBOOKS/herik2a-agriml-crop-recommendation.ipynb#X34sZmlsZQ%3D%3D?line=0'>1</a>\u001b[0m sns\u001b[39m.\u001b[39mheatmap(df\u001b[39m.\u001b[39;49mcorr(),annot\u001b[39m=\u001b[39m\u001b[39mTrue\u001b[39;00m)\n",
      "File \u001b[1;32mc:\\Users\\arjit\\AppData\\Local\\Programs\\Python\\Python310\\lib\\site-packages\\pandas\\core\\frame.py:10054\u001b[0m, in \u001b[0;36mDataFrame.corr\u001b[1;34m(self, method, min_periods, numeric_only)\u001b[0m\n\u001b[0;32m  10052\u001b[0m cols \u001b[39m=\u001b[39m data\u001b[39m.\u001b[39mcolumns\n\u001b[0;32m  10053\u001b[0m idx \u001b[39m=\u001b[39m cols\u001b[39m.\u001b[39mcopy()\n\u001b[1;32m> 10054\u001b[0m mat \u001b[39m=\u001b[39m data\u001b[39m.\u001b[39;49mto_numpy(dtype\u001b[39m=\u001b[39;49m\u001b[39mfloat\u001b[39;49m, na_value\u001b[39m=\u001b[39;49mnp\u001b[39m.\u001b[39;49mnan, copy\u001b[39m=\u001b[39;49m\u001b[39mFalse\u001b[39;49;00m)\n\u001b[0;32m  10056\u001b[0m \u001b[39mif\u001b[39;00m method \u001b[39m==\u001b[39m \u001b[39m\"\u001b[39m\u001b[39mpearson\u001b[39m\u001b[39m\"\u001b[39m:\n\u001b[0;32m  10057\u001b[0m     correl \u001b[39m=\u001b[39m libalgos\u001b[39m.\u001b[39mnancorr(mat, minp\u001b[39m=\u001b[39mmin_periods)\n",
      "File \u001b[1;32mc:\\Users\\arjit\\AppData\\Local\\Programs\\Python\\Python310\\lib\\site-packages\\pandas\\core\\frame.py:1838\u001b[0m, in \u001b[0;36mDataFrame.to_numpy\u001b[1;34m(self, dtype, copy, na_value)\u001b[0m\n\u001b[0;32m   1836\u001b[0m \u001b[39mif\u001b[39;00m dtype \u001b[39mis\u001b[39;00m \u001b[39mnot\u001b[39;00m \u001b[39mNone\u001b[39;00m:\n\u001b[0;32m   1837\u001b[0m     dtype \u001b[39m=\u001b[39m np\u001b[39m.\u001b[39mdtype(dtype)\n\u001b[1;32m-> 1838\u001b[0m result \u001b[39m=\u001b[39m \u001b[39mself\u001b[39;49m\u001b[39m.\u001b[39;49m_mgr\u001b[39m.\u001b[39;49mas_array(dtype\u001b[39m=\u001b[39;49mdtype, copy\u001b[39m=\u001b[39;49mcopy, na_value\u001b[39m=\u001b[39;49mna_value)\n\u001b[0;32m   1839\u001b[0m \u001b[39mif\u001b[39;00m result\u001b[39m.\u001b[39mdtype \u001b[39mis\u001b[39;00m \u001b[39mnot\u001b[39;00m dtype:\n\u001b[0;32m   1840\u001b[0m     result \u001b[39m=\u001b[39m np\u001b[39m.\u001b[39marray(result, dtype\u001b[39m=\u001b[39mdtype, copy\u001b[39m=\u001b[39m\u001b[39mFalse\u001b[39;00m)\n",
      "File \u001b[1;32mc:\\Users\\arjit\\AppData\\Local\\Programs\\Python\\Python310\\lib\\site-packages\\pandas\\core\\internals\\managers.py:1732\u001b[0m, in \u001b[0;36mBlockManager.as_array\u001b[1;34m(self, dtype, copy, na_value)\u001b[0m\n\u001b[0;32m   1730\u001b[0m         arr\u001b[39m.\u001b[39mflags\u001b[39m.\u001b[39mwriteable \u001b[39m=\u001b[39m \u001b[39mFalse\u001b[39;00m\n\u001b[0;32m   1731\u001b[0m \u001b[39melse\u001b[39;00m:\n\u001b[1;32m-> 1732\u001b[0m     arr \u001b[39m=\u001b[39m \u001b[39mself\u001b[39;49m\u001b[39m.\u001b[39;49m_interleave(dtype\u001b[39m=\u001b[39;49mdtype, na_value\u001b[39m=\u001b[39;49mna_value)\n\u001b[0;32m   1733\u001b[0m     \u001b[39m# The underlying data was copied within _interleave, so no need\u001b[39;00m\n\u001b[0;32m   1734\u001b[0m     \u001b[39m# to further copy if copy=True or setting na_value\u001b[39;00m\n\u001b[0;32m   1736\u001b[0m \u001b[39mif\u001b[39;00m na_value \u001b[39mis\u001b[39;00m \u001b[39mnot\u001b[39;00m lib\u001b[39m.\u001b[39mno_default:\n",
      "File \u001b[1;32mc:\\Users\\arjit\\AppData\\Local\\Programs\\Python\\Python310\\lib\\site-packages\\pandas\\core\\internals\\managers.py:1794\u001b[0m, in \u001b[0;36mBlockManager._interleave\u001b[1;34m(self, dtype, na_value)\u001b[0m\n\u001b[0;32m   1792\u001b[0m     \u001b[39melse\u001b[39;00m:\n\u001b[0;32m   1793\u001b[0m         arr \u001b[39m=\u001b[39m blk\u001b[39m.\u001b[39mget_values(dtype)\n\u001b[1;32m-> 1794\u001b[0m     result[rl\u001b[39m.\u001b[39;49mindexer] \u001b[39m=\u001b[39m arr\n\u001b[0;32m   1795\u001b[0m     itemmask[rl\u001b[39m.\u001b[39mindexer] \u001b[39m=\u001b[39m \u001b[39m1\u001b[39m\n\u001b[0;32m   1797\u001b[0m \u001b[39mif\u001b[39;00m \u001b[39mnot\u001b[39;00m itemmask\u001b[39m.\u001b[39mall():\n",
      "\u001b[1;31mValueError\u001b[0m: could not convert string to float: 'rice'"
     ]
    }
   ],
   "source": [
    "sns.heatmap(df.corr(),annot=True)"
   ]
  },
  {
   "cell_type": "markdown",
   "metadata": {
    "papermill": {
     "duration": 0.059391,
     "end_time": "2024-09-09T04:30:22.055012",
     "exception": false,
     "start_time": "2024-09-09T04:30:21.995621",
     "status": "completed"
    },
    "tags": []
   },
   "source": [
    "### Seperating features and target label"
   ]
  },
  {
   "cell_type": "markdown",
   "metadata": {
    "execution": {
     "iopub.execute_input": "2024-02-16T08:51:05.386570Z",
     "iopub.status.busy": "2024-02-16T08:51:05.386227Z",
     "iopub.status.idle": "2024-02-16T08:51:05.401516Z",
     "shell.execute_reply": "2024-02-16T08:51:05.400091Z",
     "shell.execute_reply.started": "2024-02-16T08:51:05.386537Z"
    },
    "papermill": {
     "duration": 0.056847,
     "end_time": "2024-09-09T04:30:22.169469",
     "exception": false,
     "start_time": "2024-09-09T04:30:22.112622",
     "status": "completed"
    },
    "tags": []
   },
   "source": [
    "## Sudah dirangkum diatas seluruhnya\n",
    "\n",
    "def detect_outlier(x):\n",
    "    q1 = x.quantile(0.25)\n",
    "    q3 = x.quantile(0.75)\n",
    "    IQR = q3-q1\n",
    "    lower_limit = q1 - (1.5*IQR)\n",
    "    upper_limit = q3 + (1.5*IQR)\n",
    "    print(f\"Lower limit: {lower_limit} Upper limit: {upper_limit}\")\n",
    "    print(f\"Minimum value: {x.min()}   MAximum Value: {x.max()}\")\n",
    "    for i in [x.min(),x.max()]:\n",
    "        if i == x.min():\n",
    "            if lower_limit > x.min():\n",
    "                print(\"Lower limit failed - Need to remove minimum value\")\n",
    "            elif lower_limit < x.min():\n",
    "                print(\"Lower limit passed - No need to remove outlier\")\n",
    "        elif i == x.max():\n",
    "            if upper_limit > x.max():\n",
    "                print(\"Upper limit passed - No need to remove outlier\")\n",
    "            elif upper_limit < x.max():\n",
    "                print(\"Upper limit failed - Need to remove maximum value\")\n",
    "detect_outlier(df['K'][df['label']=='grapes'])"
   ]
  },
  {
   "cell_type": "code",
   "execution_count": 42,
   "metadata": {
    "execution": {
     "iopub.execute_input": "2024-09-09T04:30:22.293323Z",
     "iopub.status.busy": "2024-09-09T04:30:22.291558Z",
     "iopub.status.idle": "2024-09-09T04:30:22.296477Z",
     "shell.execute_reply": "2024-09-09T04:30:22.295749Z",
     "shell.execute_reply.started": "2024-09-09T03:52:07.409853Z"
    },
    "papermill": {
     "duration": 0.06915,
     "end_time": "2024-09-09T04:30:22.296605",
     "exception": false,
     "start_time": "2024-09-09T04:30:22.227455",
     "status": "completed"
    },
    "tags": []
   },
   "outputs": [],
   "source": [
    "features = df[['N', 'P','K','temperature', 'humidity', 'ph', 'rainfall','soil']]\n",
    "target = df['label']\n",
    "labels = df['label']"
   ]
  },
  {
   "cell_type": "code",
   "execution_count": 43,
   "metadata": {
    "execution": {
     "iopub.execute_input": "2024-09-09T04:30:22.416730Z",
     "iopub.status.busy": "2024-09-09T04:30:22.415782Z",
     "iopub.status.idle": "2024-09-09T04:30:22.419013Z",
     "shell.execute_reply": "2024-09-09T04:30:22.418323Z",
     "shell.execute_reply.started": "2024-09-09T03:52:07.420904Z"
    },
    "papermill": {
     "duration": 0.06517,
     "end_time": "2024-09-09T04:30:22.419138",
     "exception": false,
     "start_time": "2024-09-09T04:30:22.353968",
     "status": "completed"
    },
    "tags": []
   },
   "outputs": [],
   "source": [
    "# Initializing empty lists to append all model's name and corresponding name\n",
    "acc = []\n",
    "model = []"
   ]
  },
  {
   "cell_type": "code",
   "execution_count": 44,
   "metadata": {
    "execution": {
     "iopub.execute_input": "2024-09-09T04:30:22.542955Z",
     "iopub.status.busy": "2024-09-09T04:30:22.542054Z",
     "iopub.status.idle": "2024-09-09T04:30:22.549605Z",
     "shell.execute_reply": "2024-09-09T04:30:22.548812Z",
     "shell.execute_reply.started": "2024-09-09T03:52:07.433526Z"
    },
    "papermill": {
     "duration": 0.072616,
     "end_time": "2024-09-09T04:30:22.549742",
     "exception": false,
     "start_time": "2024-09-09T04:30:22.477126",
     "status": "completed"
    },
    "tags": []
   },
   "outputs": [],
   "source": [
    "# Splitting into train and test data\n",
    "\n",
    "from sklearn.model_selection import train_test_split\n",
    "Xtrain, Xtest, Ytrain, Ytest = train_test_split(features,target,test_size = 0.2,random_state =2)"
   ]
  },
  {
   "cell_type": "markdown",
   "metadata": {
    "papermill": {
     "duration": 0.056763,
     "end_time": "2024-09-09T04:30:22.666273",
     "exception": false,
     "start_time": "2024-09-09T04:30:22.609510",
     "status": "completed"
    },
    "tags": []
   },
   "source": [
    "# Decision Tree Model"
   ]
  },
  {
   "cell_type": "code",
   "execution_count": 45,
   "metadata": {
    "execution": {
     "iopub.execute_input": "2024-09-09T04:30:22.795653Z",
     "iopub.status.busy": "2024-09-09T04:30:22.794819Z",
     "iopub.status.idle": "2024-09-09T04:30:22.862233Z",
     "shell.execute_reply": "2024-09-09T04:30:22.861466Z",
     "shell.execute_reply.started": "2024-09-09T03:52:07.449001Z"
    },
    "papermill": {
     "duration": 0.134676,
     "end_time": "2024-09-09T04:30:22.862367",
     "exception": false,
     "start_time": "2024-09-09T04:30:22.727691",
     "status": "completed"
    },
    "tags": []
   },
   "outputs": [
    {
     "name": "stdout",
     "output_type": "stream",
     "text": [
      "DecisionTrees's Accuracy is:  95.11904761904762\n",
      "              precision    recall  f1-score   support\n",
      "\n",
      "       apple       1.00      1.00      1.00        19\n",
      "      banana       1.00      0.71      0.83        17\n",
      "   blackgram       0.89      1.00      0.94        42\n",
      "    chickpea       1.00      1.00      1.00        89\n",
      "     coconut       1.00      1.00      1.00        67\n",
      "      coffee       1.00      1.00      1.00        32\n",
      "      cotton       1.00      1.00      1.00        38\n",
      "      grapes       1.00      1.00      1.00        43\n",
      "        jute       0.76      1.00      0.87        58\n",
      " kidneybeans       1.00      1.00      1.00        59\n",
      "      lentil       1.00      1.00      1.00        21\n",
      "       maize       1.00      0.71      0.83        49\n",
      "       mango       0.95      1.00      0.98        40\n",
      "   mothbeans       1.00      0.55      0.71        11\n",
      "    mungbean       0.62      1.00      0.77        20\n",
      "   muskmelon       1.00      1.00      1.00        17\n",
      "      orange       1.00      1.00      1.00        21\n",
      "      papaya       1.00      0.78      0.88        32\n",
      "  pigeonpeas       1.00      1.00      1.00        58\n",
      " pomegranate       1.00      1.00      1.00        25\n",
      "        rice       0.90      0.78      0.84        46\n",
      "  watermelon       1.00      1.00      1.00        36\n",
      "\n",
      "    accuracy                           0.95       840\n",
      "   macro avg       0.96      0.93      0.94       840\n",
      "weighted avg       0.96      0.95      0.95       840\n",
      "\n"
     ]
    }
   ],
   "source": [
    "from sklearn.tree import DecisionTreeClassifier\n",
    "\n",
    "DecisionTree = DecisionTreeClassifier(criterion=\"entropy\",random_state=2,max_depth=5)\n",
    "\n",
    "DecisionTree.fit(Xtrain,Ytrain)\n",
    "\n",
    "predicted_values = DecisionTree.predict(Xtest)\n",
    "x = metrics.accuracy_score(Ytest, predicted_values)\n",
    "acc.append(x)\n",
    "model.append('Decision Tree Classifier')\n",
    "print(\"DecisionTrees's Accuracy is: \", x*100)\n",
    "\n",
    "print(classification_report(Ytest,predicted_values))"
   ]
  },
  {
   "cell_type": "code",
   "execution_count": 46,
   "metadata": {
    "execution": {
     "iopub.execute_input": "2024-09-09T04:30:22.988037Z",
     "iopub.status.busy": "2024-09-09T04:30:22.986884Z",
     "iopub.status.idle": "2024-09-09T04:30:25.362011Z",
     "shell.execute_reply": "2024-09-09T04:30:25.361303Z",
     "shell.execute_reply.started": "2024-09-09T03:52:07.528848Z"
    },
    "papermill": {
     "duration": 2.442629,
     "end_time": "2024-09-09T04:30:25.362146",
     "exception": false,
     "start_time": "2024-09-09T04:30:22.919517",
     "status": "completed"
    },
    "tags": []
   },
   "outputs": [
    {
     "data": {
      "image/png": "[encoded data removed]",
      "text/plain": [
       "<Figure size 800x600 with 2 Axes>"
      ]
     },
     "metadata": {},
     "output_type": "display_data"
    }
   ],
   "source": [
    "from sklearn.metrics import confusion_matrix\n",
    "\n",
    "cm = confusion_matrix(Ytest, predicted_values)\n",
    "\n",
    "# Plot confusion matrix\n",
    "plt.figure(figsize=(8, 6))\n",
    "sns.heatmap(cm, annot=True, cmap=\"OrRd\", fmt=\"d\", xticklabels=np.unique(Ytest), yticklabels=np.unique(Ytest))\n",
    "plt.xlabel('Predicted labels')\n",
    "plt.ylabel('True labels')\n",
    "plt.title('Confusion Matrix for Decision Tree Model')\n",
    "plt.savefig('Confusion_Matrix_DecisionTree.png')\n",
    "plt.show()"
   ]
  },
  {
   "cell_type": "code",
   "execution_count": 47,
   "metadata": {
    "execution": {
     "iopub.execute_input": "2024-09-09T04:30:25.488680Z",
     "iopub.status.busy": "2024-09-09T04:30:25.487674Z",
     "iopub.status.idle": "2024-09-09T04:30:25.490703Z",
     "shell.execute_reply": "2024-09-09T04:30:25.490141Z",
     "shell.execute_reply.started": "2024-09-09T03:52:10.103320Z"
    },
    "papermill": {
     "duration": 0.068003,
     "end_time": "2024-09-09T04:30:25.490824",
     "exception": false,
     "start_time": "2024-09-09T04:30:25.422821",
     "status": "completed"
    },
    "tags": []
   },
   "outputs": [],
   "source": [
    "from sklearn.model_selection import cross_val_score"
   ]
  },
  {
   "cell_type": "code",
   "execution_count": 48,
   "metadata": {
    "execution": {
     "iopub.execute_input": "2024-09-09T04:30:25.621792Z",
     "iopub.status.busy": "2024-09-09T04:30:25.621034Z",
     "iopub.status.idle": "2024-09-09T04:30:25.805325Z",
     "shell.execute_reply": "2024-09-09T04:30:25.804565Z",
     "shell.execute_reply.started": "2024-09-09T03:52:10.111619Z"
    },
    "papermill": {
     "duration": 0.255399,
     "end_time": "2024-09-09T04:30:25.805474",
     "exception": false,
     "start_time": "2024-09-09T04:30:25.550075",
     "status": "completed"
    },
    "tags": []
   },
   "outputs": [
    {
     "data": {
      "text/plain": [
       "array([0.96190476, 0.93095238, 0.96071429, 0.94404762, 0.93571429])"
      ]
     },
     "execution_count": 48,
     "metadata": {},
     "output_type": "execute_result"
    }
   ],
   "source": [
    "# Cross validation score (Decision Tree)\n",
    "score = cross_val_score(DecisionTree, features, target,cv=5)\n",
    "score"
   ]
  },
  {
   "cell_type": "markdown",
   "metadata": {
    "papermill": {
     "duration": 0.0594,
     "end_time": "2024-09-09T04:30:25.926099",
     "exception": false,
     "start_time": "2024-09-09T04:30:25.866699",
     "status": "completed"
    },
    "tags": []
   },
   "source": [
    "# Saving trained Decision Tree Model"
   ]
  },
  {
   "cell_type": "code",
   "execution_count": 29,
   "metadata": {
    "execution": {
     "iopub.execute_input": "2024-09-09T04:30:26.055480Z",
     "iopub.status.busy": "2024-09-09T04:30:26.054330Z",
     "iopub.status.idle": "2024-09-09T04:30:26.058989Z",
     "shell.execute_reply": "2024-09-09T04:30:26.058322Z",
     "shell.execute_reply.started": "2024-09-09T03:52:10.309828Z"
    },
    "papermill": {
     "duration": 0.072421,
     "end_time": "2024-09-09T04:30:26.059128",
     "exception": false,
     "start_time": "2024-09-09T04:30:25.986707",
     "status": "completed"
    },
    "tags": []
   },
   "outputs": [],
   "source": [
    "import pickle\n",
    "# Dump the trained Naive Bayes classifier with Pickle\n",
    "DT_pkl_filename = 'DecisionTree.pkl'\n",
    "# Open the file to save as pkl file\n",
    "DT_Model_pkl = open(DT_pkl_filename, 'wb')\n",
    "pickle.dump(DecisionTree, DT_Model_pkl)\n",
    "# Close the pickle instances\n",
    "DT_Model_pkl.close()"
   ]
  },
  {
   "cell_type": "markdown",
   "metadata": {
    "papermill": {
     "duration": 0.059134,
     "end_time": "2024-09-09T04:30:26.178587",
     "exception": false,
     "start_time": "2024-09-09T04:30:26.119453",
     "status": "completed"
    },
    "tags": []
   },
   "source": [
    "# Guassian Naive Bayes"
   ]
  },
  {
   "cell_type": "code",
   "execution_count": 30,
   "metadata": {
    "execution": {
     "iopub.execute_input": "2024-09-09T04:30:26.304764Z",
     "iopub.status.busy": "2024-09-09T04:30:26.304031Z",
     "iopub.status.idle": "2024-09-09T04:30:26.345254Z",
     "shell.execute_reply": "2024-09-09T04:30:26.345838Z",
     "shell.execute_reply.started": "2024-09-09T03:52:10.317486Z"
    },
    "papermill": {
     "duration": 0.107954,
     "end_time": "2024-09-09T04:30:26.346037",
     "exception": false,
     "start_time": "2024-09-09T04:30:26.238083",
     "status": "completed"
    },
    "tags": []
   },
   "outputs": [
    {
     "name": "stdout",
     "output_type": "stream",
     "text": [
      "Naive Bayes's Accuracy is:  0.9821428571428571\n",
      "              precision    recall  f1-score   support\n",
      "\n",
      "       apple       1.00      1.00      1.00        19\n",
      "      banana       1.00      1.00      1.00        17\n",
      "   blackgram       1.00      0.81      0.89        42\n",
      "    chickpea       1.00      1.00      1.00        89\n",
      "     coconut       1.00      1.00      1.00        67\n",
      "      coffee       1.00      1.00      1.00        32\n",
      "      cotton       0.97      1.00      0.99        38\n",
      "      grapes       1.00      1.00      1.00        43\n",
      "        jute       0.91      1.00      0.95        58\n",
      " kidneybeans       1.00      1.00      1.00        59\n",
      "      lentil       0.84      1.00      0.91        21\n",
      "       maize       1.00      0.98      0.99        49\n",
      "       mango       1.00      1.00      1.00        40\n",
      "   mothbeans       0.73      1.00      0.85        11\n",
      "    mungbean       1.00      1.00      1.00        20\n",
      "   muskmelon       1.00      1.00      1.00        17\n",
      "      orange       1.00      1.00      1.00        21\n",
      "      papaya       1.00      1.00      1.00        32\n",
      "  pigeonpeas       1.00      1.00      1.00        58\n",
      " pomegranate       1.00      1.00      1.00        25\n",
      "        rice       1.00      0.87      0.93        46\n",
      "  watermelon       1.00      1.00      1.00        36\n",
      "\n",
      "    accuracy                           0.98       840\n",
      "   macro avg       0.98      0.98      0.98       840\n",
      "weighted avg       0.98      0.98      0.98       840\n",
      "\n"
     ]
    }
   ],
   "source": [
    "from sklearn.naive_bayes import GaussianNB\n",
    "\n",
    "NaiveBayes = GaussianNB()\n",
    "\n",
    "NaiveBayes.fit(Xtrain,Ytrain)\n",
    "\n",
    "predicted_values = NaiveBayes.predict(Xtest)\n",
    "x = metrics.accuracy_score(Ytest, predicted_values)\n",
    "acc.append(x)\n",
    "model.append('Guassian Naive Bayes')\n",
    "print(\"Naive Bayes's Accuracy is: \", x)\n",
    "\n",
    "print(classification_report(Ytest,predicted_values))"
   ]
  },
  {
   "cell_type": "code",
   "execution_count": 31,
   "metadata": {
    "execution": {
     "iopub.execute_input": "2024-09-09T04:30:26.478831Z",
     "iopub.status.busy": "2024-09-09T04:30:26.477951Z",
     "iopub.status.idle": "2024-09-09T04:30:28.769870Z",
     "shell.execute_reply": "2024-09-09T04:30:28.770429Z",
     "shell.execute_reply.started": "2024-09-09T03:52:10.366429Z"
    },
    "papermill": {
     "duration": 2.364147,
     "end_time": "2024-09-09T04:30:28.770581",
     "exception": false,
     "start_time": "2024-09-09T04:30:26.406434",
     "status": "completed"
    },
    "tags": []
   },
   "outputs": [
    {
     "data": {
      "image/png": "[encoded data removed]",
      "text/plain": [
       "<Figure size 576x432 with 2 Axes>"
      ]
     },
     "metadata": {
      "needs_background": "light"
     },
     "output_type": "display_data"
    }
   ],
   "source": [
    "from sklearn.metrics import confusion_matrix\n",
    "\n",
    "cm = confusion_matrix(Ytest, predicted_values)\n",
    "\n",
    "# Plot confusion matrix\n",
    "plt.figure(figsize=(8, 6))\n",
    "sns.heatmap(cm, annot=True, cmap=\"OrRd\", fmt=\"d\", xticklabels=np.unique(Ytest), yticklabels=np.unique(Ytest))\n",
    "plt.xlabel('Predicted labels')\n",
    "plt.ylabel('True labels')\n",
    "plt.title('Confusion Matrix for Gaussian Naive Bayes Model')\n",
    "plt.savefig('Confusion_Matrix_NaiveBayes.png')\n",
    "plt.show()"
   ]
  },
  {
   "cell_type": "code",
   "execution_count": 32,
   "metadata": {
    "execution": {
     "iopub.execute_input": "2024-09-09T04:30:28.906762Z",
     "iopub.status.busy": "2024-09-09T04:30:28.906045Z",
     "iopub.status.idle": "2024-09-09T04:30:28.987663Z",
     "shell.execute_reply": "2024-09-09T04:30:28.986951Z",
     "shell.execute_reply.started": "2024-09-09T03:52:12.660529Z"
    },
    "papermill": {
     "duration": 0.154486,
     "end_time": "2024-09-09T04:30:28.987788",
     "exception": false,
     "start_time": "2024-09-09T04:30:28.833302",
     "status": "completed"
    },
    "tags": []
   },
   "outputs": [
    {
     "data": {
      "text/plain": [
       "array([0.98928571, 0.99047619, 0.98452381, 0.98809524, 0.98214286])"
      ]
     },
     "execution_count": 32,
     "metadata": {},
     "output_type": "execute_result"
    }
   ],
   "source": [
    "# Cross validation score (NaiveBayes)\n",
    "score = cross_val_score(NaiveBayes,features,target,cv=5)\n",
    "score"
   ]
  },
  {
   "cell_type": "markdown",
   "metadata": {
    "papermill": {
     "duration": 0.063216,
     "end_time": "2024-09-09T04:30:29.113811",
     "exception": false,
     "start_time": "2024-09-09T04:30:29.050595",
     "status": "completed"
    },
    "tags": []
   },
   "source": [
    "# Saving trained Guassian Naive Bayes model"
   ]
  },
  {
   "cell_type": "code",
   "execution_count": 33,
   "metadata": {
    "execution": {
     "iopub.execute_input": "2024-09-09T04:30:29.246231Z",
     "iopub.status.busy": "2024-09-09T04:30:29.245441Z",
     "iopub.status.idle": "2024-09-09T04:30:29.249220Z",
     "shell.execute_reply": "2024-09-09T04:30:29.248602Z",
     "shell.execute_reply.started": "2024-09-09T03:52:12.761330Z"
    },
    "papermill": {
     "duration": 0.073224,
     "end_time": "2024-09-09T04:30:29.249376",
     "exception": false,
     "start_time": "2024-09-09T04:30:29.176152",
     "status": "completed"
    },
    "tags": []
   },
   "outputs": [],
   "source": [
    "import pickle\n",
    "# Dump the trained Naive Bayes classifier with Pickle\n",
    "NB_pkl_filename = 'NBClassifier.pkl'\n",
    "# Open the file to save as pkl file\n",
    "NB_Model_pkl = open(NB_pkl_filename, 'wb')\n",
    "pickle.dump(NaiveBayes, NB_Model_pkl)\n",
    "# Close the pickle instances\n",
    "NB_Model_pkl.close()"
   ]
  },
  {
   "cell_type": "markdown",
   "metadata": {
    "papermill": {
     "duration": 0.064775,
     "end_time": "2024-09-09T04:30:29.377525",
     "exception": false,
     "start_time": "2024-09-09T04:30:29.312750",
     "status": "completed"
    },
    "tags": []
   },
   "source": [
    "# Support Vector Machine (SVM)"
   ]
  },
  {
   "cell_type": "code",
   "execution_count": 34,
   "metadata": {
    "execution": {
     "iopub.execute_input": "2024-09-09T04:30:29.514251Z",
     "iopub.status.busy": "2024-09-09T04:30:29.513521Z",
     "iopub.status.idle": "2024-09-09T04:30:29.627827Z",
     "shell.execute_reply": "2024-09-09T04:30:29.628394Z",
     "shell.execute_reply.started": "2024-09-09T03:52:12.769334Z"
    },
    "papermill": {
     "duration": 0.187489,
     "end_time": "2024-09-09T04:30:29.628571",
     "exception": false,
     "start_time": "2024-09-09T04:30:29.441082",
     "status": "completed"
    },
    "tags": []
   },
   "outputs": [
    {
     "name": "stdout",
     "output_type": "stream",
     "text": [
      "SVM's Accuracy is:  0.9821428571428571\n",
      "              precision    recall  f1-score   support\n",
      "\n",
      "       apple       1.00      1.00      1.00        19\n",
      "      banana       1.00      1.00      1.00        17\n",
      "   blackgram       1.00      1.00      1.00        42\n",
      "    chickpea       1.00      1.00      1.00        89\n",
      "     coconut       1.00      1.00      1.00        67\n",
      "      coffee       1.00      1.00      1.00        32\n",
      "      cotton       0.95      1.00      0.97        38\n",
      "      grapes       1.00      1.00      1.00        43\n",
      "        jute       0.84      0.98      0.90        58\n",
      " kidneybeans       0.98      1.00      0.99        59\n",
      "      lentil       1.00      1.00      1.00        21\n",
      "       maize       1.00      0.96      0.98        49\n",
      "       mango       1.00      1.00      1.00        40\n",
      "   mothbeans       1.00      1.00      1.00        11\n",
      "    mungbean       1.00      1.00      1.00        20\n",
      "   muskmelon       1.00      1.00      1.00        17\n",
      "      orange       1.00      1.00      1.00        21\n",
      "      papaya       1.00      1.00      1.00        32\n",
      "  pigeonpeas       1.00      0.98      0.99        58\n",
      " pomegranate       1.00      1.00      1.00        25\n",
      "        rice       0.97      0.76      0.85        46\n",
      "  watermelon       1.00      1.00      1.00        36\n",
      "\n",
      "    accuracy                           0.98       840\n",
      "   macro avg       0.99      0.99      0.99       840\n",
      "weighted avg       0.98      0.98      0.98       840\n",
      "\n"
     ]
    }
   ],
   "source": [
    "from sklearn.svm import SVC\n",
    "\n",
    "SVM = SVC(kernel='poly')  #jangan pakai SVC(gamma='auto')\n",
    "\n",
    "SVM.fit(Xtrain,Ytrain)\n",
    "\n",
    "predicted_values = SVM.predict(Xtest)\n",
    "\n",
    "x = metrics.accuracy_score(Ytest, predicted_values)\n",
    "acc.append(x)\n",
    "model.append('Support Vector Machine (SVM)')\n",
    "print(\"SVM's Accuracy is: \", x)\n",
    "\n",
    "print(classification_report(Ytest,predicted_values))"
   ]
  },
  {
   "cell_type": "code",
   "execution_count": 35,
   "metadata": {
    "execution": {
     "iopub.execute_input": "2024-09-09T04:30:29.784654Z",
     "iopub.status.busy": "2024-09-09T04:30:29.783556Z",
     "iopub.status.idle": "2024-09-09T04:30:32.230151Z",
     "shell.execute_reply": "2024-09-09T04:30:32.229564Z",
     "shell.execute_reply.started": "2024-09-09T03:52:12.896044Z"
    },
    "papermill": {
     "duration": 2.534715,
     "end_time": "2024-09-09T04:30:32.230309",
     "exception": false,
     "start_time": "2024-09-09T04:30:29.695594",
     "status": "completed"
    },
    "tags": []
   },
   "outputs": [
    {
     "data": {
      "image/png": "[encoded data removed]",
      "text/plain": [
       "<Figure size 576x432 with 2 Axes>"
      ]
     },
     "metadata": {
      "needs_background": "light"
     },
     "output_type": "display_data"
    }
   ],
   "source": [
    "from sklearn.metrics import confusion_matrix\n",
    "\n",
    "cm = confusion_matrix(Ytest, predicted_values)\n",
    "\n",
    "# Plot confusion matrix\n",
    "#plt.figure(figsize=[10,5],dpi = 100)\n",
    "plt.figure(figsize=(8, 6))\n",
    "sns.heatmap(cm, annot=True, cmap=\"OrRd\", fmt=\"d\", xticklabels=np.unique(Ytest), yticklabels=np.unique(Ytest))\n",
    "plt.xlabel('Predicted labels')\n",
    "plt.ylabel('True labels')\n",
    "plt.title('Confusion Matrix for Support Vector Machine (SVM) Model')\n",
    "plt.savefig('Confusion_Matrix_SVM.png')\n",
    "plt.show()"
   ]
  },
  {
   "cell_type": "code",
   "execution_count": 36,
   "metadata": {
    "execution": {
     "iopub.execute_input": "2024-09-09T04:30:32.376488Z",
     "iopub.status.busy": "2024-09-09T04:30:32.375297Z",
     "iopub.status.idle": "2024-09-09T04:30:32.778163Z",
     "shell.execute_reply": "2024-09-09T04:30:32.777372Z",
     "shell.execute_reply.started": "2024-09-09T03:52:15.207040Z"
    },
    "papermill": {
     "duration": 0.481965,
     "end_time": "2024-09-09T04:30:32.778306",
     "exception": false,
     "start_time": "2024-09-09T04:30:32.296341",
     "status": "completed"
    },
    "tags": []
   },
   "outputs": [
    {
     "data": {
      "text/plain": [
       "array([0.98571429, 0.97619048, 0.99047619, 0.98571429, 0.98095238])"
      ]
     },
     "execution_count": 36,
     "metadata": {},
     "output_type": "execute_result"
    }
   ],
   "source": [
    "# Cross validation score (SVM)\n",
    "score = cross_val_score(SVM,features,target,cv=5)\n",
    "score"
   ]
  },
  {
   "cell_type": "markdown",
   "metadata": {
    "papermill": {
     "duration": 0.064576,
     "end_time": "2024-09-09T04:30:32.908448",
     "exception": false,
     "start_time": "2024-09-09T04:30:32.843872",
     "status": "completed"
    },
    "tags": []
   },
   "source": [
    "# Logistic Regression"
   ]
  },
  {
   "cell_type": "code",
   "execution_count": 37,
   "metadata": {
    "execution": {
     "iopub.execute_input": "2024-09-09T04:30:33.047112Z",
     "iopub.status.busy": "2024-09-09T04:30:33.046279Z",
     "iopub.status.idle": "2024-09-09T04:30:33.627517Z",
     "shell.execute_reply": "2024-09-09T04:30:33.628221Z",
     "shell.execute_reply.started": "2024-09-09T03:52:15.614942Z"
    },
    "papermill": {
     "duration": 0.655301,
     "end_time": "2024-09-09T04:30:33.628408",
     "exception": false,
     "start_time": "2024-09-09T04:30:32.973107",
     "status": "completed"
    },
    "tags": []
   },
   "outputs": [
    {
     "name": "stdout",
     "output_type": "stream",
     "text": [
      "Logistic Regression's Accuracy is:  0.9523809523809523\n",
      "              precision    recall  f1-score   support\n",
      "\n",
      "       apple       1.00      1.00      1.00        19\n",
      "      banana       1.00      1.00      1.00        17\n",
      "   blackgram       0.95      0.83      0.89        42\n",
      "    chickpea       1.00      1.00      1.00        89\n",
      "     coconut       1.00      1.00      1.00        67\n",
      "      coffee       0.97      0.94      0.95        32\n",
      "      cotton       0.81      0.92      0.86        38\n",
      "      grapes       1.00      1.00      1.00        43\n",
      "        jute       0.79      0.98      0.88        58\n",
      " kidneybeans       1.00      1.00      1.00        59\n",
      "      lentil       0.91      1.00      0.95        21\n",
      "       maize       0.93      0.84      0.88        49\n",
      "       mango       1.00      0.90      0.95        40\n",
      "   mothbeans       0.56      0.82      0.67        11\n",
      "    mungbean       1.00      1.00      1.00        20\n",
      "   muskmelon       1.00      1.00      1.00        17\n",
      "      orange       1.00      1.00      1.00        21\n",
      "      papaya       0.94      0.91      0.92        32\n",
      "  pigeonpeas       1.00      1.00      1.00        58\n",
      " pomegranate       1.00      1.00      1.00        25\n",
      "        rice       1.00      0.78      0.88        46\n",
      "  watermelon       1.00      1.00      1.00        36\n",
      "\n",
      "    accuracy                           0.95       840\n",
      "   macro avg       0.95      0.95      0.95       840\n",
      "weighted avg       0.96      0.95      0.95       840\n",
      "\n"
     ]
    }
   ],
   "source": [
    "from sklearn.linear_model import LogisticRegression\n",
    "\n",
    "LogReg = LogisticRegression(random_state=2)\n",
    "\n",
    "LogReg.fit(Xtrain,Ytrain)\n",
    "\n",
    "predicted_values = LogReg.predict(Xtest)\n",
    "\n",
    "x = metrics.accuracy_score(Ytest, predicted_values)\n",
    "acc.append(x)\n",
    "model.append('Logistic Regression Model ')\n",
    "print(\"Logistic Regression's Accuracy is: \", x)\n",
    "\n",
    "print(classification_report(Ytest,predicted_values))"
   ]
  },
  {
   "cell_type": "code",
   "execution_count": 38,
   "metadata": {
    "execution": {
     "iopub.execute_input": "2024-09-09T04:30:33.777390Z",
     "iopub.status.busy": "2024-09-09T04:30:33.776414Z",
     "iopub.status.idle": "2024-09-09T04:30:36.065638Z",
     "shell.execute_reply": "2024-09-09T04:30:36.064943Z",
     "shell.execute_reply.started": "2024-09-09T03:52:16.176811Z"
    },
    "papermill": {
     "duration": 2.367229,
     "end_time": "2024-09-09T04:30:36.065759",
     "exception": false,
     "start_time": "2024-09-09T04:30:33.698530",
     "status": "completed"
    },
    "tags": []
   },
   "outputs": [
    {
     "data": {
      "image/png": "[encoded data removed]",
      "text/plain": [
       "<Figure size 576x432 with 2 Axes>"
      ]
     },
     "metadata": {
      "needs_background": "light"
     },
     "output_type": "display_data"
    }
   ],
   "source": [
    "from sklearn.metrics import confusion_matrix\n",
    "\n",
    "cm = confusion_matrix(Ytest, predicted_values)\n",
    "\n",
    "# Plot confusion matrix\n",
    "#plt.figure(figsize=[10,5],dpi = 100)\n",
    "plt.figure(figsize=(8, 6))\n",
    "sns.heatmap(cm, annot=True, cmap=\"OrRd\", fmt=\"d\", xticklabels=np.unique(Ytest), yticklabels=np.unique(Ytest))\n",
    "plt.xlabel('Predicted labels')\n",
    "plt.ylabel('True labels')\n",
    "plt.title('Confusion Matrix for Logistic Regression Model')\n",
    "plt.savefig('Confusion_Matrix_LogisticRegression.png')\n",
    "plt.show()"
   ]
  },
  {
   "cell_type": "code",
   "execution_count": 39,
   "metadata": {
    "execution": {
     "iopub.execute_input": "2024-09-09T04:30:36.213554Z",
     "iopub.status.busy": "2024-09-09T04:30:36.212290Z",
     "iopub.status.idle": "2024-09-09T04:30:38.900774Z",
     "shell.execute_reply": "2024-09-09T04:30:38.899842Z",
     "shell.execute_reply.started": "2024-09-09T03:52:18.839037Z"
    },
    "papermill": {
     "duration": 2.767369,
     "end_time": "2024-09-09T04:30:38.900942",
     "exception": false,
     "start_time": "2024-09-09T04:30:36.133573",
     "status": "completed"
    },
    "tags": []
   },
   "outputs": [
    {
     "data": {
      "text/plain": [
       "array([0.95238095, 0.9702381 , 0.95952381, 0.96785714, 0.95      ])"
      ]
     },
     "execution_count": 39,
     "metadata": {},
     "output_type": "execute_result"
    }
   ],
   "source": [
    "# Cross validation score (Logistic Regression)\n",
    "score = cross_val_score(LogReg,features,target,cv=5)\n",
    "score"
   ]
  },
  {
   "cell_type": "markdown",
   "metadata": {
    "papermill": {
     "duration": 0.066855,
     "end_time": "2024-09-09T04:30:39.036402",
     "exception": false,
     "start_time": "2024-09-09T04:30:38.969547",
     "status": "completed"
    },
    "tags": []
   },
   "source": [
    "# Saving trained Logistic Regression model"
   ]
  },
  {
   "cell_type": "code",
   "execution_count": 40,
   "metadata": {
    "execution": {
     "iopub.execute_input": "2024-09-09T04:30:39.178415Z",
     "iopub.status.busy": "2024-09-09T04:30:39.177590Z",
     "iopub.status.idle": "2024-09-09T04:30:39.181354Z",
     "shell.execute_reply": "2024-09-09T04:30:39.180758Z",
     "shell.execute_reply.started": "2024-09-09T03:52:21.459449Z"
    },
    "papermill": {
     "duration": 0.077217,
     "end_time": "2024-09-09T04:30:39.181526",
     "exception": false,
     "start_time": "2024-09-09T04:30:39.104309",
     "status": "completed"
    },
    "tags": []
   },
   "outputs": [],
   "source": [
    "import pickle\n",
    "# Dump the trained Naive Bayes classifier with Pickle\n",
    "LR_pkl_filename = 'LogisticRegression.pkl'\n",
    "# Open the file to save as pkl file\n",
    "LR_Model_pkl = open(LR_pkl_filename, 'wb')\n",
    "pickle.dump(LogReg, LR_Model_pkl)\n",
    "# Close the pickle instances\n",
    "LR_Model_pkl.close()"
   ]
  },
  {
   "cell_type": "markdown",
   "metadata": {
    "papermill": {
     "duration": 0.066894,
     "end_time": "2024-09-09T04:30:39.317151",
     "exception": false,
     "start_time": "2024-09-09T04:30:39.250257",
     "status": "completed"
    },
    "tags": []
   },
   "source": [
    "# Random Forest"
   ]
  },
  {
   "cell_type": "markdown",
   "metadata": {
    "papermill": {
     "duration": 0.067657,
     "end_time": "2024-09-09T04:30:39.452088",
     "exception": false,
     "start_time": "2024-09-09T04:30:39.384431",
     "status": "completed"
    },
    "tags": []
   },
   "source": []
  },
  {
   "cell_type": "code",
   "execution_count": 41,
   "metadata": {
    "execution": {
     "iopub.execute_input": "2024-09-09T04:30:39.595879Z",
     "iopub.status.busy": "2024-09-09T04:30:39.595156Z",
     "iopub.status.idle": "2024-09-09T04:30:39.798305Z",
     "shell.execute_reply": "2024-09-09T04:30:39.797398Z",
     "shell.execute_reply.started": "2024-09-09T03:52:21.467813Z"
    },
    "papermill": {
     "duration": 0.277725,
     "end_time": "2024-09-09T04:30:39.798489",
     "exception": false,
     "start_time": "2024-09-09T04:30:39.520764",
     "status": "completed"
    },
    "tags": []
   },
   "outputs": [
    {
     "name": "stdout",
     "output_type": "stream",
     "text": [
      "RF's Accuracy is:  0.9988095238095238\n",
      "              precision    recall  f1-score   support\n",
      "\n",
      "       apple       1.00      1.00      1.00        19\n",
      "      banana       1.00      1.00      1.00        17\n",
      "   blackgram       1.00      1.00      1.00        42\n",
      "    chickpea       1.00      1.00      1.00        89\n",
      "     coconut       1.00      1.00      1.00        67\n",
      "      coffee       1.00      1.00      1.00        32\n",
      "      cotton       1.00      1.00      1.00        38\n",
      "      grapes       1.00      1.00      1.00        43\n",
      "        jute       0.98      1.00      0.99        58\n",
      " kidneybeans       1.00      1.00      1.00        59\n",
      "      lentil       1.00      1.00      1.00        21\n",
      "       maize       1.00      1.00      1.00        49\n",
      "       mango       1.00      1.00      1.00        40\n",
      "   mothbeans       1.00      1.00      1.00        11\n",
      "    mungbean       1.00      1.00      1.00        20\n",
      "   muskmelon       1.00      1.00      1.00        17\n",
      "      orange       1.00      1.00      1.00        21\n",
      "      papaya       1.00      1.00      1.00        32\n",
      "  pigeonpeas       1.00      1.00      1.00        58\n",
      " pomegranate       1.00      1.00      1.00        25\n",
      "        rice       1.00      0.98      0.99        46\n",
      "  watermelon       1.00      1.00      1.00        36\n",
      "\n",
      "    accuracy                           1.00       840\n",
      "   macro avg       1.00      1.00      1.00       840\n",
      "weighted avg       1.00      1.00      1.00       840\n",
      "\n"
     ]
    }
   ],
   "source": [
    "from sklearn.ensemble import RandomForestClassifier\n",
    "\n",
    "RF = RandomForestClassifier(n_estimators=20, random_state=0)\n",
    "RF.fit(Xtrain,Ytrain)\n",
    "\n",
    "predicted_values = RF.predict(Xtest)\n",
    "\n",
    "x = metrics.accuracy_score(Ytest, predicted_values)\n",
    "acc.append(x)\n",
    "model.append('Random Forest Classifier')\n",
    "print(\"RF's Accuracy is: \", x)\n",
    "\n",
    "print(classification_report(Ytest,predicted_values))"
   ]
  },
  {
   "cell_type": "code",
   "execution_count": 42,
   "metadata": {
    "execution": {
     "iopub.execute_input": "2024-09-09T04:30:39.964003Z",
     "iopub.status.busy": "2024-09-09T04:30:39.955380Z",
     "iopub.status.idle": "2024-09-09T04:30:42.387575Z",
     "shell.execute_reply": "2024-09-09T04:30:42.388168Z",
     "shell.execute_reply.started": "2024-09-09T03:52:21.637917Z"
    },
    "papermill": {
     "duration": 2.514394,
     "end_time": "2024-09-09T04:30:42.388338",
     "exception": false,
     "start_time": "2024-09-09T04:30:39.873944",
     "status": "completed"
    },
    "tags": []
   },
   "outputs": [
    {
     "data": {
      "image/png": "[encoded data removed]",
      "text/plain": [
       "<Figure size 576x432 with 2 Axes>"
      ]
     },
     "metadata": {
      "needs_background": "light"
     },
     "output_type": "display_data"
    }
   ],
   "source": [
    "from sklearn.metrics import confusion_matrix\n",
    "\n",
    "cm = confusion_matrix(Ytest, predicted_values)\n",
    "\n",
    "# Plot confusion matrix\n",
    "#plt.figure(figsize=[10,5],dpi = 100)\n",
    "plt.figure(figsize=(8, 6))\n",
    "sns.heatmap(cm, annot=True, cmap=\"OrRd\", fmt=\"d\", xticklabels=np.unique(Ytest), yticklabels=np.unique(Ytest))\n",
    "plt.xlabel('Predicted labels')\n",
    "plt.ylabel('True labels')\n",
    "plt.title('Confusion Matrix for Random Forest Model')\n",
    "plt.savefig('Confusion_Matrix_RandomForest.png')\n",
    "plt.show()"
   ]
  },
  {
   "cell_type": "code",
   "execution_count": 43,
   "metadata": {
    "execution": {
     "iopub.execute_input": "2024-09-09T04:30:42.539270Z",
     "iopub.status.busy": "2024-09-09T04:30:42.538524Z",
     "iopub.status.idle": "2024-09-09T04:30:43.131885Z",
     "shell.execute_reply": "2024-09-09T04:30:43.130560Z",
     "shell.execute_reply.started": "2024-09-09T03:52:23.988534Z"
    },
    "papermill": {
     "duration": 0.672855,
     "end_time": "2024-09-09T04:30:43.132047",
     "exception": false,
     "start_time": "2024-09-09T04:30:42.459192",
     "status": "completed"
    },
    "tags": []
   },
   "outputs": [
    {
     "data": {
      "text/plain": [
       "array([0.99880952, 0.99761905, 0.99642857, 0.99761905, 0.9952381 ])"
      ]
     },
     "execution_count": 43,
     "metadata": {},
     "output_type": "execute_result"
    }
   ],
   "source": [
    "# Cross validation score (Random Forest)\n",
    "score = cross_val_score(RF,features,target,cv=5)\n",
    "score"
   ]
  },
  {
   "cell_type": "markdown",
   "metadata": {
    "papermill": {
     "duration": 0.072615,
     "end_time": "2024-09-09T04:30:43.276996",
     "exception": false,
     "start_time": "2024-09-09T04:30:43.204381",
     "status": "completed"
    },
    "tags": []
   },
   "source": [
    "# Saving trained Random Forest model"
   ]
  },
  {
   "cell_type": "code",
   "execution_count": 44,
   "metadata": {
    "execution": {
     "iopub.execute_input": "2024-09-09T04:30:43.426896Z",
     "iopub.status.busy": "2024-09-09T04:30:43.426182Z",
     "iopub.status.idle": "2024-09-09T04:30:43.430405Z",
     "shell.execute_reply": "2024-09-09T04:30:43.430942Z",
     "shell.execute_reply.started": "2024-09-09T03:52:24.583367Z"
    },
    "papermill": {
     "duration": 0.083939,
     "end_time": "2024-09-09T04:30:43.431131",
     "exception": false,
     "start_time": "2024-09-09T04:30:43.347192",
     "status": "completed"
    },
    "tags": []
   },
   "outputs": [],
   "source": [
    "import pickle\n",
    "# Dump the trained Naive Bayes classifier with Pickle\n",
    "RF_pkl_filename = 'RandomForest.pkl'\n",
    "# Open the file to save as pkl file\n",
    "RF_Model_pkl = open(RF_pkl_filename, 'wb')\n",
    "pickle.dump(RF, RF_Model_pkl)\n",
    "# Close the pickle instances\n",
    "RF_Model_pkl.close()"
   ]
  },
  {
   "cell_type": "markdown",
   "metadata": {
    "papermill": {
     "duration": 0.070132,
     "end_time": "2024-09-09T04:30:43.571853",
     "exception": false,
     "start_time": "2024-09-09T04:30:43.501721",
     "status": "completed"
    },
    "tags": []
   },
   "source": [
    "# KNN Classifier"
   ]
  },
  {
   "cell_type": "code",
   "execution_count": 45,
   "metadata": {
    "execution": {
     "iopub.execute_input": "2024-09-09T04:30:43.735697Z",
     "iopub.status.busy": "2024-09-09T04:30:43.728490Z",
     "iopub.status.idle": "2024-09-09T04:30:43.800656Z",
     "shell.execute_reply": "2024-09-09T04:30:43.801470Z",
     "shell.execute_reply.started": "2024-09-09T03:52:24.593884Z"
    },
    "papermill": {
     "duration": 0.156953,
     "end_time": "2024-09-09T04:30:43.801639",
     "exception": false,
     "start_time": "2024-09-09T04:30:43.644686",
     "status": "completed"
    },
    "tags": []
   },
   "outputs": [
    {
     "name": "stdout",
     "output_type": "stream",
     "text": [
      "K-NN's Accuracy is:  0.9821428571428571\n",
      "              precision    recall  f1-score   support\n",
      "\n",
      "       apple       1.00      1.00      1.00        19\n",
      "      banana       1.00      1.00      1.00        17\n",
      "   blackgram       0.98      1.00      0.99        42\n",
      "    chickpea       1.00      1.00      1.00        89\n",
      "     coconut       1.00      1.00      1.00        67\n",
      "      coffee       1.00      1.00      1.00        32\n",
      "      cotton       0.95      1.00      0.97        38\n",
      "      grapes       1.00      1.00      1.00        43\n",
      "        jute       0.87      0.95      0.91        58\n",
      " kidneybeans       0.98      1.00      0.99        59\n",
      "      lentil       1.00      1.00      1.00        21\n",
      "       maize       1.00      0.96      0.98        49\n",
      "       mango       1.00      1.00      1.00        40\n",
      "   mothbeans       1.00      0.91      0.95        11\n",
      "    mungbean       1.00      1.00      1.00        20\n",
      "   muskmelon       1.00      1.00      1.00        17\n",
      "      orange       1.00      1.00      1.00        21\n",
      "      papaya       1.00      1.00      1.00        32\n",
      "  pigeonpeas       1.00      0.98      0.99        58\n",
      " pomegranate       1.00      1.00      1.00        25\n",
      "        rice       0.93      0.83      0.87        46\n",
      "  watermelon       1.00      1.00      1.00        36\n",
      "\n",
      "    accuracy                           0.98       840\n",
      "   macro avg       0.99      0.98      0.98       840\n",
      "weighted avg       0.98      0.98      0.98       840\n",
      "\n"
     ]
    }
   ],
   "source": [
    "from sklearn.neighbors import KNeighborsClassifier\n",
    "knn_ = KNeighborsClassifier()\n",
    "knn_.fit(Xtrain,Ytrain)\n",
    "#knn.score(X_test_scaled, y_test)\n",
    "\n",
    "predicted_values = knn_.predict(Xtest)\n",
    "\n",
    "x = metrics.accuracy_score(Ytest, predicted_values)\n",
    "acc.append(x)\n",
    "model.append('KNeighbors Classifier')\n",
    "print(\"K-NN's Accuracy is: \", x)\n",
    "\n",
    "print(classification_report(Ytest,predicted_values))"
   ]
  },
  {
   "cell_type": "code",
   "execution_count": 46,
   "metadata": {
    "execution": {
     "iopub.execute_input": "2024-09-09T04:30:43.966812Z",
     "iopub.status.busy": "2024-09-09T04:30:43.956062Z",
     "iopub.status.idle": "2024-09-09T04:30:46.307560Z",
     "shell.execute_reply": "2024-09-09T04:30:46.306853Z",
     "shell.execute_reply.started": "2024-09-09T03:52:24.676425Z"
    },
    "papermill": {
     "duration": 2.434632,
     "end_time": "2024-09-09T04:30:46.307681",
     "exception": false,
     "start_time": "2024-09-09T04:30:43.873049",
     "status": "completed"
    },
    "tags": []
   },
   "outputs": [
    {
     "data": {
      "image/png": "[encoded data removed]",
      "text/plain": [
       "<Figure size 576x432 with 2 Axes>"
      ]
     },
     "metadata": {
      "needs_background": "light"
     },
     "output_type": "display_data"
    }
   ],
   "source": [
    "from sklearn.metrics import confusion_matrix\n",
    "\n",
    "cmKNN = confusion_matrix(Ytest, predicted_values)\n",
    "\n",
    "# Plot confusion matrix\n",
    "#plt.figure(figsize=[10,5],dpi = 100)\n",
    "plt.figure(figsize=(8, 6))\n",
    "sns.heatmap(cmKNN, annot=True, cmap=\"OrRd\", fmt=\"d\", xticklabels=np.unique(Ytest), yticklabels=np.unique(Ytest))\n",
    "plt.xlabel('Predicted labels')\n",
    "plt.ylabel('True labels')\n",
    "plt.title('Confusion Matrix for K-NN Model')\n",
    "plt.savefig('Confusion_Matrix_K-NN.png')\n",
    "plt.show()"
   ]
  },
  {
   "cell_type": "code",
   "execution_count": 47,
   "metadata": {
    "execution": {
     "iopub.execute_input": "2024-09-09T04:30:46.461692Z",
     "iopub.status.busy": "2024-09-09T04:30:46.458731Z",
     "iopub.status.idle": "2024-09-09T04:30:46.682988Z",
     "shell.execute_reply": "2024-09-09T04:30:46.682264Z",
     "shell.execute_reply.started": "2024-09-09T03:52:26.936499Z"
    },
    "papermill": {
     "duration": 0.303463,
     "end_time": "2024-09-09T04:30:46.683110",
     "exception": false,
     "start_time": "2024-09-09T04:30:46.379647",
     "status": "completed"
    },
    "tags": []
   },
   "outputs": [
    {
     "data": {
      "text/plain": [
       "array([0.97738095, 0.98214286, 0.97857143, 0.97738095, 0.98333333])"
      ]
     },
     "execution_count": 47,
     "metadata": {},
     "output_type": "execute_result"
    }
   ],
   "source": [
    "# Cross validation score (KNN)\n",
    "score = cross_val_score(knn_,features,target,cv=5)\n",
    "score"
   ]
  },
  {
   "cell_type": "code",
   "execution_count": 48,
   "metadata": {
    "execution": {
     "iopub.execute_input": "2024-09-09T04:30:46.839753Z",
     "iopub.status.busy": "2024-09-09T04:30:46.838704Z",
     "iopub.status.idle": "2024-09-09T04:30:46.841555Z",
     "shell.execute_reply": "2024-09-09T04:30:46.842121Z",
     "shell.execute_reply.started": "2024-09-09T03:52:27.166697Z"
    },
    "papermill": {
     "duration": 0.08427,
     "end_time": "2024-09-09T04:30:46.842290",
     "exception": false,
     "start_time": "2024-09-09T04:30:46.758020",
     "status": "completed"
    },
    "tags": []
   },
   "outputs": [],
   "source": [
    "### Saving trained K-NN model"
   ]
  },
  {
   "cell_type": "code",
   "execution_count": 49,
   "metadata": {
    "execution": {
     "iopub.execute_input": "2024-09-09T04:30:46.995597Z",
     "iopub.status.busy": "2024-09-09T04:30:46.994735Z",
     "iopub.status.idle": "2024-09-09T04:30:46.999057Z",
     "shell.execute_reply": "2024-09-09T04:30:46.998299Z",
     "shell.execute_reply.started": "2024-09-09T03:52:27.173699Z"
    },
    "papermill": {
     "duration": 0.082683,
     "end_time": "2024-09-09T04:30:46.999192",
     "exception": false,
     "start_time": "2024-09-09T04:30:46.916509",
     "status": "completed"
    },
    "tags": []
   },
   "outputs": [],
   "source": [
    "import pickle\n",
    "# Dump the trained Naive Bayes classifier with Pickle\n",
    "KNN_pkl_filename = 'K-NN.pkl'\n",
    "# Open the file to save as pkl file\n",
    "KNN_Model_pkl = open(KNN_pkl_filename, 'wb')\n",
    "pickle.dump(knn_, KNN_Model_pkl)\n",
    "# Close the pickle instances\n",
    "KNN_Model_pkl.close()"
   ]
  },
  {
   "cell_type": "markdown",
   "metadata": {
    "papermill": {
     "duration": 0.072272,
     "end_time": "2024-09-09T04:30:47.144809",
     "exception": false,
     "start_time": "2024-09-09T04:30:47.072537",
     "status": "completed"
    },
    "tags": []
   },
   "source": [
    "# XGBoost"
   ]
  },
  {
   "cell_type": "code",
   "execution_count": 50,
   "metadata": {
    "execution": {
     "iopub.execute_input": "2024-09-09T04:30:47.297398Z",
     "iopub.status.busy": "2024-09-09T04:30:47.296659Z",
     "iopub.status.idle": "2024-09-09T04:30:49.353610Z",
     "shell.execute_reply": "2024-09-09T04:30:49.354341Z",
     "shell.execute_reply.started": "2024-09-09T03:52:27.186008Z"
    },
    "papermill": {
     "duration": 2.13696,
     "end_time": "2024-09-09T04:30:49.354555",
     "exception": false,
     "start_time": "2024-09-09T04:30:47.217595",
     "status": "completed"
    },
    "tags": []
   },
   "outputs": [
    {
     "name": "stdout",
     "output_type": "stream",
     "text": [
      "       N   P   K  temperature   humidity        ph    rainfall  soil\n",
      "1296   7  77  18    20.559126  60.548807  6.655918  191.089511     0\n",
      "140   61  52  41    24.976695  83.891805  6.880431  204.800185     0\n",
      "2559  88  29  51    24.718855  88.945683  6.095690   48.459786     0\n",
      "674   52  56  85    20.118745  14.442283  6.817124   88.681686     3\n",
      "118   99  55  35    21.723831  80.238990  6.501698  277.962619     0\n",
      "...   ..  ..  ..          ...        ...       ...         ...   ...\n",
      "157   77  36  37    26.884449  81.460337  6.136132  194.576656     1\n",
      "848   22  79  17    21.424511  20.396597  5.912290  116.520692     2\n",
      "587   52  60  79    19.453399  18.234907  8.380185   75.631757     1\n",
      "347   94  50  19    23.303553  73.625484  5.873242   97.590813     1\n",
      "204   80  43  16    23.558821  71.593514  6.657965   66.719955     0\n",
      "\n",
      "[840 rows x 8 columns]\n",
      "XGBoost's Accuracy is:  1.0\n",
      "              precision    recall  f1-score   support\n",
      "\n",
      "       apple       1.00      1.00      1.00        19\n",
      "      banana       1.00      1.00      1.00        17\n",
      "   blackgram       1.00      1.00      1.00        42\n",
      "    chickpea       1.00      1.00      1.00        89\n",
      "     coconut       1.00      1.00      1.00        67\n",
      "      coffee       1.00      1.00      1.00        32\n",
      "      cotton       1.00      1.00      1.00        38\n",
      "      grapes       1.00      1.00      1.00        43\n",
      "        jute       1.00      1.00      1.00        58\n",
      " kidneybeans       1.00      1.00      1.00        59\n",
      "      lentil       1.00      1.00      1.00        21\n",
      "       maize       1.00      1.00      1.00        49\n",
      "       mango       1.00      1.00      1.00        40\n",
      "   mothbeans       1.00      1.00      1.00        11\n",
      "    mungbean       1.00      1.00      1.00        20\n",
      "   muskmelon       1.00      1.00      1.00        17\n",
      "      orange       1.00      1.00      1.00        21\n",
      "      papaya       1.00      1.00      1.00        32\n",
      "  pigeonpeas       1.00      1.00      1.00        58\n",
      " pomegranate       1.00      1.00      1.00        25\n",
      "        rice       1.00      1.00      1.00        46\n",
      "  watermelon       1.00      1.00      1.00        36\n",
      "\n",
      "    accuracy                           1.00       840\n",
      "   macro avg       1.00      1.00      1.00       840\n",
      "weighted avg       1.00      1.00      1.00       840\n",
      "\n"
     ]
    }
   ],
   "source": [
    "import xgboost as xgb\n",
    "XGBos = xgb.XGBClassifier()\n",
    "XGBos.fit(Xtrain,Ytrain)\n",
    "\n",
    "predicted_values = XGBos.predict(Xtest)\n",
    "print(Xtest)\n",
    "x = metrics.accuracy_score(Ytest, predicted_values)\n",
    "acc.append(x)\n",
    "model.append('XGBoost Model')\n",
    "print(\"XGBoost's Accuracy is: \", x)\n",
    "\n",
    "print(classification_report(Ytest,predicted_values))"
   ]
  },
  {
   "cell_type": "code",
   "execution_count": 51,
   "metadata": {
    "execution": {
     "iopub.execute_input": "2024-09-09T04:30:49.557023Z",
     "iopub.status.busy": "2024-09-09T04:30:49.556266Z",
     "iopub.status.idle": "2024-09-09T04:30:51.876242Z",
     "shell.execute_reply": "2024-09-09T04:30:51.876818Z",
     "shell.execute_reply.started": "2024-09-09T03:52:28.340828Z"
    },
    "papermill": {
     "duration": 2.419195,
     "end_time": "2024-09-09T04:30:51.876997",
     "exception": false,
     "start_time": "2024-09-09T04:30:49.457802",
     "status": "completed"
    },
    "tags": []
   },
   "outputs": [
    {
     "data": {
      "image/png": "[encoded data removed]",
      "text/plain": [
       "<Figure size 576x432 with 2 Axes>"
      ]
     },
     "metadata": {
      "needs_background": "light"
     },
     "output_type": "display_data"
    }
   ],
   "source": [
    "from sklearn.metrics import confusion_matrix\n",
    "\n",
    "cmXG = confusion_matrix(Ytest, predicted_values)\n",
    "\n",
    "# Plot confusion matrix\n",
    "#plt.figure(figsize=[10,5],dpi = 100)\n",
    "plt.figure(figsize=(8, 6))\n",
    "sns.heatmap(cmXG, annot=True, cmap=\"OrRd\", fmt=\"d\", xticklabels=np.unique(Ytest), yticklabels=np.unique(Ytest))\n",
    "plt.xlabel('Predicted labels')\n",
    "plt.ylabel('True labels')\n",
    "plt.title('Confusion Matrix for XGBoost Model')\n",
    "plt.savefig('Confusion_Matrix_XGBoost.png')\n",
    "plt.show()\n"
   ]
  },
  {
   "cell_type": "code",
   "execution_count": 52,
   "metadata": {
    "execution": {
     "iopub.execute_input": "2024-09-09T04:30:52.039554Z",
     "iopub.status.busy": "2024-09-09T04:30:52.038384Z",
     "iopub.status.idle": "2024-09-09T04:30:56.899022Z",
     "shell.execute_reply": "2024-09-09T04:30:56.899860Z",
     "shell.execute_reply.started": "2024-09-09T03:52:30.684546Z"
    },
    "papermill": {
     "duration": 4.947478,
     "end_time": "2024-09-09T04:30:56.900086",
     "exception": false,
     "start_time": "2024-09-09T04:30:51.952608",
     "status": "completed"
    },
    "tags": []
   },
   "outputs": [
    {
     "data": {
      "text/plain": [
       "array([0.99285714, 0.99642857, 0.99642857, 0.98928571, 0.99285714])"
      ]
     },
     "execution_count": 52,
     "metadata": {},
     "output_type": "execute_result"
    }
   ],
   "source": [
    "# Cross validation score (XGBoost)\n",
    "score = cross_val_score(XGBos,features,target,cv=5)\n",
    "score"
   ]
  },
  {
   "cell_type": "markdown",
   "metadata": {
    "papermill": {
     "duration": 0.097418,
     "end_time": "2024-09-09T04:30:57.107842",
     "exception": false,
     "start_time": "2024-09-09T04:30:57.010424",
     "status": "completed"
    },
    "tags": []
   },
   "source": [
    "### Saving trained XGBoost model"
   ]
  },
  {
   "cell_type": "code",
   "execution_count": 53,
   "metadata": {
    "execution": {
     "iopub.execute_input": "2024-09-09T04:30:57.262767Z",
     "iopub.status.busy": "2024-09-09T04:30:57.262046Z",
     "iopub.status.idle": "2024-09-09T04:30:57.267822Z",
     "shell.execute_reply": "2024-09-09T04:30:57.267130Z",
     "shell.execute_reply.started": "2024-09-09T03:52:35.385150Z"
    },
    "papermill": {
     "duration": 0.085824,
     "end_time": "2024-09-09T04:30:57.267963",
     "exception": false,
     "start_time": "2024-09-09T04:30:57.182139",
     "status": "completed"
    },
    "tags": []
   },
   "outputs": [],
   "source": [
    "import pickle\n",
    "# Dump the trained Naive Bayes classifier with Pickle\n",
    "XB_pkl_filename = 'XGBoost.pkl'\n",
    "# Open the file to save as pkl file\n",
    "XB_Model_pkl = open(XB_pkl_filename, 'wb')\n",
    "pickle.dump(XGBos, XB_Model_pkl)\n",
    "# Close the pickle instances\n",
    "XB_Model_pkl.close()"
   ]
  },
  {
   "cell_type": "markdown",
   "metadata": {
    "execution": {
     "iopub.execute_input": "2024-09-09T02:02:07.056814Z",
     "iopub.status.busy": "2024-09-09T02:02:07.056324Z",
     "iopub.status.idle": "2024-09-09T02:02:09.349136Z",
     "shell.execute_reply": "2024-09-09T02:02:09.348118Z",
     "shell.execute_reply.started": "2024-09-09T02:02:07.056747Z"
    },
    "papermill": {
     "duration": 0.077226,
     "end_time": "2024-09-09T04:30:57.421103",
     "exception": false,
     "start_time": "2024-09-09T04:30:57.343877",
     "status": "completed"
    },
    "tags": []
   },
   "source": [
    "# masih salah untuk Booast\n",
    "from sklearn.metrics import confusion_matrix\n",
    "\n",
    "cmXG = confusion_matrix(Ytest, predicted_values)\n",
    "\n",
    "### Plot confusion matrix\n",
    "#plt.figure(figsize=[10,5],dpi = 100)\n",
    "plt.figure(figsize=(8, 6))\n",
    "sns.heatmap(cmXG, annot=True, cmap=\"OrRd\", fmt=\"d\", xticklabels=np.unique(Ytest), yticklabels=np.unique(Ytest))\n",
    "plt.xlabel('Predicted labels')\n",
    "plt.ylabel('True labels')\n",
    "plt.title('Confusion Matrix for XGBoost Model')\n",
    "plt.savefig('Confusion_Matrix_XGBoost.png')\n",
    "plt.show()"
   ]
  },
  {
   "cell_type": "markdown",
   "metadata": {
    "papermill": {
     "duration": 0.075894,
     "end_time": "2024-09-09T04:30:57.572673",
     "exception": false,
     "start_time": "2024-09-09T04:30:57.496779",
     "status": "completed"
    },
    "tags": []
   },
   "source": [
    "## Accuracy Comparison"
   ]
  },
  {
   "cell_type": "code",
   "execution_count": 54,
   "metadata": {
    "execution": {
     "iopub.execute_input": "2024-09-09T04:30:57.737462Z",
     "iopub.status.busy": "2024-09-09T04:30:57.736566Z",
     "iopub.status.idle": "2024-09-09T04:30:58.010683Z",
     "shell.execute_reply": "2024-09-09T04:30:58.011268Z",
     "shell.execute_reply.started": "2024-09-09T03:52:35.396864Z"
    },
    "papermill": {
     "duration": 0.361997,
     "end_time": "2024-09-09T04:30:58.011426",
     "exception": false,
     "start_time": "2024-09-09T04:30:57.649429",
     "status": "completed"
    },
    "tags": []
   },
   "outputs": [
    {
     "data": {
      "image/png": "[encoded data removed]",
      "text/plain": [
       "<Figure size 1000x500 with 1 Axes>"
      ]
     },
     "metadata": {
      "needs_background": "light"
     },
     "output_type": "display_data"
    }
   ],
   "source": [
    "plt.figure(figsize=[10,5],dpi = 100)\n",
    "plt.title('Accuracy Comparison')\n",
    "plt.xlabel('Accuracy')\n",
    "plt.ylabel('Algorithm')\n",
    "sns.barplot(x = acc,y = model,palette='dark')\n",
    "plt.savefig('ML_Crop_Recc_plot.png')"
   ]
  },
  {
   "cell_type": "code",
   "execution_count": 55,
   "metadata": {
    "execution": {
     "iopub.execute_input": "2024-09-09T04:30:58.172969Z",
     "iopub.status.busy": "2024-09-09T04:30:58.171956Z",
     "iopub.status.idle": "2024-09-09T04:30:58.176194Z",
     "shell.execute_reply": "2024-09-09T04:30:58.175497Z",
     "shell.execute_reply.started": "2024-09-09T03:52:35.724172Z"
    },
    "papermill": {
     "duration": 0.088558,
     "end_time": "2024-09-09T04:30:58.176324",
     "exception": false,
     "start_time": "2024-09-09T04:30:58.087766",
     "status": "completed"
    },
    "tags": []
   },
   "outputs": [
    {
     "name": "stdout",
     "output_type": "stream",
     "text": [
      "Decision Tree Classifier --> 95.0 %\n",
      "Guassian Naive Bayes --> 98.0 %\n",
      "Support Vector Machine (SVM) --> 98.0 %\n",
      "Logistic Regression Model  --> 95.0 %\n",
      "Random Forest Classifier --> 100.0 %\n",
      "KNeighbors Classifier --> 98.0 %\n",
      "XGBoost Model --> 100.0 %\n"
     ]
    }
   ],
   "source": [
    "#Gambar di atas, nilai real diprint disini\n",
    "\n",
    "accuracy_models = dict(zip(model, acc))\n",
    "for k, v in accuracy_models.items():\n",
    "    print (k, '-->', round(v,2)*100,'%')"
   ]
  },
  {
   "cell_type": "markdown",
   "metadata": {
    "papermill": {
     "duration": 0.07696,
     "end_time": "2024-09-09T04:30:58.330207",
     "exception": false,
     "start_time": "2024-09-09T04:30:58.253247",
     "status": "completed"
    },
    "tags": []
   },
   "source": [
    "## Making a prediction with sensor (simulation)"
   ]
  },
  {
   "cell_type": "code",
   "execution_count": 56,
   "metadata": {
    "execution": {
     "iopub.execute_input": "2024-09-09T04:30:58.509230Z",
     "iopub.status.busy": "2024-09-09T04:30:58.499134Z",
     "iopub.status.idle": "2024-09-09T04:30:58.533013Z",
     "shell.execute_reply": "2024-09-09T04:30:58.533728Z",
     "shell.execute_reply.started": "2024-09-09T04:29:39.513097Z"
    },
    "papermill": {
     "duration": 0.126188,
     "end_time": "2024-09-09T04:30:58.533935",
     "exception": false,
     "start_time": "2024-09-09T04:30:58.407747",
     "status": "completed"
    },
    "tags": []
   },
   "outputs": [
    {
     "name": "stdout",
     "output_type": "stream",
     "text": [
      "Input Parameter:\n",
      "       N      P      K  temperature  humidity    ph  rainfall   soil \n",
      "0  94.12  22.06  57.58         22.7     69.95  6.69    294.25  loamy\n",
      "\n",
      "Hasil Prediksi tiap model:\n",
      "1. Random Forest Clasifier --> ['coffee']\n",
      "2. Decision Tree Clasifier --> ['coffee']\n",
      "3. Guassian Naive Bayes    --> ['coffee']\n",
      "4. K Nearest Neighbours    --> ['rice']\n",
      "5. XGBoost Clasifier       --> ['coffee']\n",
      "6. Logistic Regression     --> ['rice']\n",
      "7. Support Vector Machine  --> ['rice']\n"
     ]
    }
   ],
   "source": [
    "import random\n",
    "import pandas as pd\n",
    "\n",
    "tempN = round(random.uniform(10,100),2)\n",
    "tempP = round(random.uniform(10,100),2)\n",
    "tempK = round(random.uniform(10,100),2)\n",
    "tempt = round(random.uniform(10,50),2)\n",
    "temph = round(random.uniform(40,80),2)\n",
    "tempp = round(random.uniform(5,8),2)\n",
    "tempr = round(random.uniform(20,300),2)\n",
    "temps = random.uniform(0,4)\n",
    "temps = int(temps)\n",
    "\n",
    "if temps==1: temps_='clayey'\n",
    "if temps==0: temps_='loamy'\n",
    "if temps==2: temps_='sandy'\n",
    "if temps==3: temps_='black'\n",
    "if temps==4: temps_='red'\n",
    "    \n",
    "\n",
    "x_values = np.array([[tempN,tempP,tempK,tempt,temph,tempp,tempr,temps]])\n",
    "\n",
    "x_values_ = np.array([[tempN,tempP,tempK,tempt,temph,tempp,tempr,temps_]])\n",
    "\n",
    "data = pd.DataFrame(x_values_, columns = ['N ','P ','K ','temperature ','humidity ','ph ','rainfall ','soil '])\n",
    "print(\"Input Parameter:\\n\",data,end=\"\\n\\n\")\n",
    "data = pd.DataFrame(x_values, columns = ['N','P','K','temperature','humidity','ph','rainfall','soil'])\n",
    "print('Hasil Prediksi tiap model:')\n",
    "print('1. Random Forest Clasifier -->', RF.predict(data))\n",
    "print('2. Decision Tree Clasifier -->', DecisionTree.predict(data))\n",
    "print('3. Guassian Naive Bayes    -->', NaiveBayes.predict(data))\n",
    "print('4. K Nearest Neighbours    -->', knn_.predict(data))\n",
    "print('5. XGBoost Clasifier       -->', XGBos.predict(data)) # XGBoost prediksinya\n",
    "print('6. Logistic Regression     -->', LogReg.predict(data))\n",
    "print('7. Support Vector Machine  -->', SVM.predict(data))\n"
   ]
  }
 ],
 "metadata": {
  "kaggle": {
   "accelerator": "none",
   "dataSources": [
    {
     "datasetId": 1046158,
     "sourceId": 1760012,
     "sourceType": "datasetVersion"
    },
    {
     "datasetId": 4395584,
     "sourceId": 7547401,
     "sourceType": "datasetVersion"
    }
   ],
   "dockerImageVersionId": 30042,
   "isGpuEnabled": false,
   "isInternetEnabled": true,
   "language": "python",
   "sourceType": "notebook"
  },
  "kernelspec": {
   "display_name": "Python 3",
   "language": "python",
   "name": "python3"
  },
  "language_info": {
   "codemirror_mode": {
    "name": "ipython",
    "version": 3
   },
   "file_extension": ".py",
   "mimetype": "text/x-python",
   "name": "python",
   "nbconvert_exporter": "python",
   "pygments_lexer": "ipython3",
   "version": "3.7.6"
  },
  "papermill": {
   "duration": 47.205616,
   "end_time": "2024-09-09T04:30:58.756086",
   "environment_variables": {},
   "exception": null,
   "input_path": "__notebook__.ipynb",
   "output_path": "__notebook__.ipynb",
   "parameters": {},
   "start_time": "2024-09-09T04:30:11.550470",
   "version": "2.1.0"
  }
 },
 "nbformat": 4,
 "nbformat_minor": 4
}
